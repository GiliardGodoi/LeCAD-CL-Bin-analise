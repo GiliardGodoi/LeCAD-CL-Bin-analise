{
 "cells": [
  {
   "cell_type": "code",
   "execution_count": 1,
   "metadata": {},
   "outputs": [],
   "source": [
    "# importando as bibliotecas necessárias\n",
    "import numpy as np\n",
    "import pandas as pd\n",
    "import os\n",
    "from os import path\n",
    "\n",
    "import matplotlib.pyplot as plt\n",
    "from matplotlib import cm\n",
    "\n",
    "import seaborn as sns\n",
    "sns.set_style(\"whitegrid\") # configuração de estilos dos gráficos do seaborn\n",
    "\n",
    "% matplotlib inline"
   ]
  },
  {
   "cell_type": "code",
   "execution_count": 2,
   "metadata": {},
   "outputs": [],
   "source": [
    "def modificar_valor_InterfModel(item):\n",
    "    tmp = item.strip()\n",
    "    nro = int(tmp[-1:])\n",
    "    return nro\n",
    "\n",
    "def modificar_valor_simulacao(nome_diretorio):\n",
    "    posicao = nome_diretorio.rfind('_')\n",
    "    posicao += 1\n",
    "    return nome_diretorio[posicao:]"
   ]
  },
  {
   "cell_type": "code",
   "execution_count": 3,
   "metadata": {},
   "outputs": [
    {
     "name": "stdout",
     "output_type": "stream",
     "text": [
      "coletado dados de ->\t simulacao_4.0.0_PA\n",
      "coletado dados de ->\t simulacao_4.0.1_PB\n",
      "coletado dados de ->\t simulacao_4.2.1_CLBin_p=0.1\n",
      "coletado dados de ->\t simulacao_4.2.2_CLBin_p=0.2\n",
      "coletado dados de ->\t simulacao_4.2.3_CLBin_p=0.3\n",
      "coletado dados de ->\t simulacao_4.2.4_CLBin_p=0.4\n",
      "coletado dados de ->\t simulacao_4.2.5_CLBin_p=0.5\n",
      "coletado dados de ->\t simulacao_4.2.6_CLBin_p=0.6\n",
      "coletado dados de ->\t simulacao_4.2.7_CLBin_p=0.7\n",
      "coletado dados de ->\t simulacao_4.2.8_CLBin_p=0.8\n",
      "coletado dados de ->\t simulacao_4.2.9_CLBin_p=0.9\n"
     ]
    }
   ],
   "source": [
    "FILE = 'PRR.txt' # arquivo de interesse\n",
    "colunas = ['Modelo de colisao', 'nó 1', 'nó 2', 'nó 3', 'nó 4', 'nó 5']\n",
    "\n",
    "\n",
    "# obtem uma lista de todos arquivos e subdiretorios do diretorio atual\n",
    "folders = os.listdir()\n",
    "folders.sort()\n",
    "\n",
    "DATA = pd.DataFrame()\n",
    "\n",
    "for folder in filter(lambda x: path.isdir(x),folders):\n",
    "    os.chdir(folder)\n",
    "    if path.isfile(FILE):\n",
    "        simulacao = modificar_valor_simulacao(folder)\n",
    "        dfPRR = pd.read_csv(FILE,delimiter='|',names=colunas)\n",
    "        dfPRR['Modelo de colisao'] = dfPRR['Modelo de colisao'].apply(modificar_valor_InterfModel)\n",
    "        dfPRR['simulacao'] = simulacao\n",
    "        DATA = DATA.append(dfPRR,ignore_index=True)\n",
    "        print('coletado dados de ->\\t',folder)\n",
    "    os.chdir('../')"
   ]
  },
  {
   "cell_type": "code",
   "execution_count": 4,
   "metadata": {},
   "outputs": [
    {
     "data": {
      "text/html": [
       "<div>\n",
       "<style scoped>\n",
       "    .dataframe tbody tr th:only-of-type {\n",
       "        vertical-align: middle;\n",
       "    }\n",
       "\n",
       "    .dataframe tbody tr th {\n",
       "        vertical-align: top;\n",
       "    }\n",
       "\n",
       "    .dataframe thead th {\n",
       "        text-align: right;\n",
       "    }\n",
       "</style>\n",
       "<table border=\"1\" class=\"dataframe\">\n",
       "  <thead>\n",
       "    <tr style=\"text-align: right;\">\n",
       "      <th></th>\n",
       "      <th>Modelo de colisao</th>\n",
       "      <th>nó 1</th>\n",
       "      <th>nó 2</th>\n",
       "      <th>nó 3</th>\n",
       "      <th>nó 4</th>\n",
       "      <th>nó 5</th>\n",
       "      <th>simulacao</th>\n",
       "    </tr>\n",
       "  </thead>\n",
       "  <tbody>\n",
       "    <tr>\n",
       "      <th>0</th>\n",
       "      <td>0</td>\n",
       "      <td>0.948</td>\n",
       "      <td>0.957</td>\n",
       "      <td>0.953</td>\n",
       "      <td>0.846</td>\n",
       "      <td>0.820</td>\n",
       "      <td>PA</td>\n",
       "    </tr>\n",
       "    <tr>\n",
       "      <th>1</th>\n",
       "      <td>1</td>\n",
       "      <td>0.902</td>\n",
       "      <td>0.909</td>\n",
       "      <td>0.913</td>\n",
       "      <td>0.741</td>\n",
       "      <td>0.708</td>\n",
       "      <td>PA</td>\n",
       "    </tr>\n",
       "    <tr>\n",
       "      <th>2</th>\n",
       "      <td>2</td>\n",
       "      <td>0.919</td>\n",
       "      <td>0.958</td>\n",
       "      <td>0.925</td>\n",
       "      <td>0.789</td>\n",
       "      <td>0.744</td>\n",
       "      <td>PA</td>\n",
       "    </tr>\n",
       "    <tr>\n",
       "      <th>3</th>\n",
       "      <td>0</td>\n",
       "      <td>0.794</td>\n",
       "      <td>0.916</td>\n",
       "      <td>0.701</td>\n",
       "      <td>0.730</td>\n",
       "      <td>0.547</td>\n",
       "      <td>PB</td>\n",
       "    </tr>\n",
       "    <tr>\n",
       "      <th>4</th>\n",
       "      <td>1</td>\n",
       "      <td>0.638</td>\n",
       "      <td>0.729</td>\n",
       "      <td>0.519</td>\n",
       "      <td>0.519</td>\n",
       "      <td>0.305</td>\n",
       "      <td>PB</td>\n",
       "    </tr>\n",
       "  </tbody>\n",
       "</table>\n",
       "</div>"
      ],
      "text/plain": [
       "   Modelo de colisao   nó 1   nó 2   nó 3   nó 4   nó 5 simulacao\n",
       "0                  0  0.948  0.957  0.953  0.846  0.820        PA\n",
       "1                  1  0.902  0.909  0.913  0.741  0.708        PA\n",
       "2                  2  0.919  0.958  0.925  0.789  0.744        PA\n",
       "3                  0  0.794  0.916  0.701  0.730  0.547        PB\n",
       "4                  1  0.638  0.729  0.519  0.519  0.305        PB"
      ]
     },
     "execution_count": 4,
     "metadata": {},
     "output_type": "execute_result"
    }
   ],
   "source": [
    "DATA.head()"
   ]
  },
  {
   "cell_type": "code",
   "execution_count": 5,
   "metadata": {},
   "outputs": [],
   "source": [
    "dfPRR = DATA.melt(id_vars=['Modelo de colisao', 'simulacao'],\n",
    "          value_vars=['nó 1', 'nó 2', 'nó 3', 'nó 4', 'nó 5'],\n",
    "          var_name='nó sensor',\n",
    "          value_name = 'PRR'\n",
    "         )"
   ]
  },
  {
   "cell_type": "code",
   "execution_count": 6,
   "metadata": {},
   "outputs": [],
   "source": [
    "dfPRR['PRR'] = dfPRR['PRR'] * 100"
   ]
  },
  {
   "cell_type": "code",
   "execution_count": 7,
   "metadata": {},
   "outputs": [
    {
     "data": {
      "text/html": [
       "<div>\n",
       "<style scoped>\n",
       "    .dataframe tbody tr th:only-of-type {\n",
       "        vertical-align: middle;\n",
       "    }\n",
       "\n",
       "    .dataframe tbody tr th {\n",
       "        vertical-align: top;\n",
       "    }\n",
       "\n",
       "    .dataframe thead th {\n",
       "        text-align: right;\n",
       "    }\n",
       "</style>\n",
       "<table border=\"1\" class=\"dataframe\">\n",
       "  <thead>\n",
       "    <tr style=\"text-align: right;\">\n",
       "      <th></th>\n",
       "      <th>Modelo de colisao</th>\n",
       "      <th>simulacao</th>\n",
       "      <th>nó sensor</th>\n",
       "      <th>PRR</th>\n",
       "    </tr>\n",
       "  </thead>\n",
       "  <tbody>\n",
       "    <tr>\n",
       "      <th>0</th>\n",
       "      <td>0</td>\n",
       "      <td>PA</td>\n",
       "      <td>nó 1</td>\n",
       "      <td>94.8</td>\n",
       "    </tr>\n",
       "    <tr>\n",
       "      <th>1</th>\n",
       "      <td>1</td>\n",
       "      <td>PA</td>\n",
       "      <td>nó 1</td>\n",
       "      <td>90.2</td>\n",
       "    </tr>\n",
       "    <tr>\n",
       "      <th>2</th>\n",
       "      <td>2</td>\n",
       "      <td>PA</td>\n",
       "      <td>nó 1</td>\n",
       "      <td>91.9</td>\n",
       "    </tr>\n",
       "    <tr>\n",
       "      <th>3</th>\n",
       "      <td>0</td>\n",
       "      <td>PB</td>\n",
       "      <td>nó 1</td>\n",
       "      <td>79.4</td>\n",
       "    </tr>\n",
       "    <tr>\n",
       "      <th>4</th>\n",
       "      <td>1</td>\n",
       "      <td>PB</td>\n",
       "      <td>nó 1</td>\n",
       "      <td>63.8</td>\n",
       "    </tr>\n",
       "  </tbody>\n",
       "</table>\n",
       "</div>"
      ],
      "text/plain": [
       "   Modelo de colisao simulacao nó sensor   PRR\n",
       "0                  0        PA      nó 1  94.8\n",
       "1                  1        PA      nó 1  90.2\n",
       "2                  2        PA      nó 1  91.9\n",
       "3                  0        PB      nó 1  79.4\n",
       "4                  1        PB      nó 1  63.8"
      ]
     },
     "execution_count": 7,
     "metadata": {},
     "output_type": "execute_result"
    }
   ],
   "source": [
    "dfPRR.head()"
   ]
  },
  {
   "cell_type": "code",
   "execution_count": 8,
   "metadata": {},
   "outputs": [
    {
     "data": {
      "text/plain": [
       "Text(0.5,1,'Modelo sem colisão')"
      ]
     },
     "execution_count": 8,
     "metadata": {},
     "output_type": "execute_result"
    },
    {
     "data": {
      "image/png": "[encoded data removed]",
      "text/plain": [
       "<Figure size 432x288 with 1 Axes>"
      ]
     },
     "metadata": {},
     "output_type": "display_data"
    }
   ],
   "source": [
    "select = (dfPRR['simulacao'] != 'PA') & (dfPRR['simulacao'] != 'PB') & (dfPRR['Modelo de colisao'] != 2)\n",
    "df = dfPRR[select & (dfPRR['Modelo de colisao'] == 0)]\n",
    "\n",
    "axes = sns.pointplot(x='simulacao', y='PRR', hue='nó sensor', data=df,\n",
    "                     palette='Set1'\n",
    "                    )\n",
    "axes.set(ylim=(0,105))\n",
    "axes.legend(loc=(1,0.4))\n",
    "\n",
    "axes.set_ylabel('PRR (%)')\n",
    "plt.title(\"Modelo sem colisão\")"
   ]
  },
  {
   "cell_type": "code",
   "execution_count": 9,
   "metadata": {},
   "outputs": [
    {
     "data": {
      "text/plain": [
       "Text(0.5,1,'Modelo com colisão')"
      ]
     },
     "execution_count": 9,
     "metadata": {},
     "output_type": "execute_result"
    },
    {
     "data": {
      "image/png": "[encoded data removed]",
      "text/plain": [
       "<Figure size 432x288 with 1 Axes>"
      ]
     },
     "metadata": {},
     "output_type": "display_data"
    }
   ],
   "source": [
    "select = (dfPRR['simulacao'] != 'PA') & (dfPRR['simulacao'] != 'PB') & (dfPRR['Modelo de colisao'] != 2)\n",
    "df = dfPRR[select & (dfPRR['Modelo de colisao'] == 1)]\n",
    "\n",
    "axes = sns.pointplot(x='simulacao',\n",
    "                     y='PRR',\n",
    "                     hue='nó sensor',\n",
    "                     data=df,\n",
    "                     palette='Set1'\n",
    "                    )\n",
    "axes.set(ylim=(0,105))\n",
    "axes.legend(loc=(1,0.4))\n",
    "\n",
    "axes.set_ylabel('PRR (%)')\n",
    "plt.title(\"Modelo com colisão\")"
   ]
  },
  {
   "cell_type": "code",
   "execution_count": 10,
   "metadata": {},
   "outputs": [],
   "source": [
    "# select = (dfPRR['simulacao'] != 'PA') & (dfPRR['simulacao'] != 'PB') & (dfPRR['Modelo de colisao'] != 2)\n",
    "# df = dfPRR[select]\n",
    "\n",
    "\n",
    "# g = sns.factorplot(x=\"simulacao\", y=\"PRR\", hue=\"node\", \n",
    "#                    col=\"Modelo de colisao\", \n",
    "#                    data=df,\n",
    "#                    kind='point',\n",
    "#                    col_wrap=2,\n",
    "#                    join=True,\n",
    "#                    palette=\"Set1\",\n",
    "#                    markers='.',\n",
    "#                    size=3,\n",
    "#                    aspect=1.5)\n",
    "# g.set(ylim=(0,1.05))\n"
   ]
  },
  {
   "cell_type": "code",
   "execution_count": 11,
   "metadata": {},
   "outputs": [],
   "source": [
    "# select = (dfPRR['simulacao'] != 'PA') & (dfPRR['simulacao'] != 'PB') & (dfPRR['Modelo de colisao'] != 2)  & (dfPRR['node'] != 'node 2')  & (dfPRR['node'] != 'node 4')\n",
    "        \n",
    "# df = dfPRR[select]\n",
    "\n",
    "\n",
    "# g = sns.factorplot(x=\"simulacao\", y=\"PRR\", hue=\"node\", \n",
    "#                    col=\"Modelo de colisao\", \n",
    "#                    data=df,\n",
    "#                    kind='point',\n",
    "#                    col_wrap=2,\n",
    "#                    join=True,\n",
    "#                    palette=\"Set1\",\n",
    "#                    markers='.',\n",
    "#                    size=3,\n",
    "#                    aspect=1.5)\n",
    "# g.set(ylim=(0,1.05))"
   ]
  },
  {
   "cell_type": "code",
   "execution_count": 12,
   "metadata": {},
   "outputs": [],
   "source": [
    "# select = (dfPRR['Modelo de colisao'] != 2)\n",
    "# df = dfPRR[select]\n",
    "\n",
    "\n",
    "# g = sns.factorplot(x=\"simulacao\", y=\"PRR\", hue=\"node\", \n",
    "#                    col=\"Modelo de colisao\", \n",
    "#                    data=df,\n",
    "#                    kind='point',\n",
    "#                    col_wrap=2,\n",
    "#                    join=True,\n",
    "#                    palette=\"Set1\",\n",
    "#                    markers='.',\n",
    "#                    size=3,\n",
    "#                    aspect=1.5)\n",
    "# g.set(ylim=(0,1.05))"
   ]
  },
  {
   "cell_type": "code",
   "execution_count": null,
   "metadata": {},
   "outputs": [],
   "source": []
  },
  {
   "cell_type": "code",
   "execution_count": null,
   "metadata": {},
   "outputs": [],
   "source": []
  },
  {
   "cell_type": "code",
   "execution_count": null,
   "metadata": {},
   "outputs": [],
   "source": []
  }
 ],
 "metadata": {
  "kernelspec": {
   "display_name": "Python 3",
   "language": "python",
   "name": "python3"
  },
  "language_info": {
   "codemirror_mode": {
    "name": "ipython",
    "version": 3
   },
   "file_extension": ".py",
   "mimetype": "text/x-python",
   "name": "python",
   "nbconvert_exporter": "python",
   "pygments_lexer": "ipython3",
   "version": "3.6.4"
  }
 },
 "nbformat": 4,
 "nbformat_minor": 2
}
