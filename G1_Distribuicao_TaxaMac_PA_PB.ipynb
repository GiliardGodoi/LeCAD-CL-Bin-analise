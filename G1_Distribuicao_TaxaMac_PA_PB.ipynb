{
 "cells": [
  {
   "cell_type": "code",
   "execution_count": 1,
   "metadata": {},
   "outputs": [],
   "source": [
    "# importando as bibliotecas necessárias\n",
    "import numpy as np\n",
    "import pandas as pd\n",
    "import os\n",
    "from os import path\n",
    "import pprint as pp\n",
    "\n",
    "import matplotlib.pyplot as plt\n",
    "from matplotlib import cm\n",
    "\n",
    "import seaborn as sns\n",
    "#sns.set_style(\"darkgrid\") # configuração de estilos dos gráficos do seaborn\n",
    "sns.set_style(\"whitegrid\")\n",
    "\n",
    "% matplotlib inline"
   ]
  },
  {
   "cell_type": "code",
   "execution_count": null,
   "metadata": {},
   "outputs": [],
   "source": []
  },
  {
   "cell_type": "code",
   "execution_count": null,
   "metadata": {},
   "outputs": [],
   "source": []
  },
  {
   "cell_type": "code",
   "execution_count": 2,
   "metadata": {},
   "outputs": [],
   "source": [
    "# Cada simulacao executada 100 vezes\n",
    "# como temos três modos de interferência: 0, 1 e 2\n",
    "# então foram executadas 300 repeticoes no total.\n",
    "\n",
    "def inferir_modeInterferencia_de_repeticao(item):\n",
    "    if item <= 100:\n",
    "        return 0\n",
    "    elif item <= 200:\n",
    "        return 1\n",
    "    elif item <= 300:\n",
    "        return 2\n",
    "    else:\n",
    "        raise Exception('Parâmetro não esperado!')\n",
    "\n",
    "\n",
    "def calcula_porcentagem_taxaMAC(dados, repeticao = 0):\n",
    "    if repeticao != 0:\n",
    "        dados = dados[dados[\"repeticao\"] == repeticao]\n",
    "    df = dados.groupby(by=\"taxaMAC\",as_index=False).count()\n",
    "    total = df[\"node\"].sum()\n",
    "    resultado = pd.DataFrame()\n",
    "    resultado['taxaMAC'] = df['taxaMAC']\n",
    "    resultado[\"freq_absoluta\"] = df[\"node\"]\n",
    "    resultado[\"freq_relativa\"] = df[\"node\"] / total\n",
    "    return resultado"
   ]
  },
  {
   "cell_type": "code",
   "execution_count": 3,
   "metadata": {},
   "outputs": [],
   "source": [
    "diretorioPA = 'simulacao_4.0.0_PA'\n",
    "diretorioPB = 'simulacao_4.0.1_PB'\n",
    "\n",
    "arquivoDados = 'dataTaxaMacFromMacLayer.csv'\n",
    "colunas = ['tempo', 'node', 'taxaMAC', 'repeticao'] # como os dados estão organizados no arquivo\n",
    "\n",
    "# DADOS DA SIMULAÇÃO PA\n",
    "arquivo = path.join(diretorioPA, arquivoDados)\n",
    "dfTaxaMacPA = pd.read_csv(arquivo,delimiter='|',names=colunas)\n",
    "dfTaxaMacPA['InterfModel'] = dfTaxaMacPA['repeticao'].apply(inferir_modeInterferencia_de_repeticao)\n",
    "dfTaxaMacPA['simulacao'] = 'PA'\n",
    "\n",
    "# DADOS DA SIMULAÇÃO PB\n",
    "arquivo = path.join(diretorioPB, arquivoDados)\n",
    "dfTaxaMacPB = pd.read_csv(arquivo,delimiter='|', names=colunas)\n",
    "dfTaxaMacPB['InterfModel'] = dfTaxaMacPB['repeticao'].apply(inferir_modeInterferencia_de_repeticao)\n",
    "dfTaxaMacPB['simulacao'] = 'PB'"
   ]
  },
  {
   "cell_type": "code",
   "execution_count": 4,
   "metadata": {},
   "outputs": [
    {
     "data": {
      "text/html": [
       "<div>\n",
       "<style scoped>\n",
       "    .dataframe tbody tr th:only-of-type {\n",
       "        vertical-align: middle;\n",
       "    }\n",
       "\n",
       "    .dataframe tbody tr th {\n",
       "        vertical-align: top;\n",
       "    }\n",
       "\n",
       "    .dataframe thead th {\n",
       "        text-align: right;\n",
       "    }\n",
       "</style>\n",
       "<table border=\"1\" class=\"dataframe\">\n",
       "  <thead>\n",
       "    <tr style=\"text-align: right;\">\n",
       "      <th></th>\n",
       "      <th>0</th>\n",
       "      <th>1</th>\n",
       "      <th>2</th>\n",
       "      <th>3</th>\n",
       "      <th>4</th>\n",
       "      <th>5</th>\n",
       "    </tr>\n",
       "  </thead>\n",
       "  <tbody>\n",
       "    <tr>\n",
       "      <th>taxaMAC</th>\n",
       "      <td>0.000000</td>\n",
       "      <td>20.000000</td>\n",
       "      <td>40.000000</td>\n",
       "      <td>60.000000</td>\n",
       "      <td>80.000000</td>\n",
       "      <td>100.000000</td>\n",
       "    </tr>\n",
       "    <tr>\n",
       "      <th>freq_absoluta</th>\n",
       "      <td>2371.000000</td>\n",
       "      <td>9040.000000</td>\n",
       "      <td>28975.000000</td>\n",
       "      <td>84438.000000</td>\n",
       "      <td>205320.000000</td>\n",
       "      <td>620358.000000</td>\n",
       "    </tr>\n",
       "    <tr>\n",
       "      <th>freq_relativa</th>\n",
       "      <td>0.002494</td>\n",
       "      <td>0.009511</td>\n",
       "      <td>0.030484</td>\n",
       "      <td>0.088835</td>\n",
       "      <td>0.216012</td>\n",
       "      <td>0.652664</td>\n",
       "    </tr>\n",
       "  </tbody>\n",
       "</table>\n",
       "</div>"
      ],
      "text/plain": [
       "                         0            1             2             3  \\\n",
       "taxaMAC           0.000000    20.000000     40.000000     60.000000   \n",
       "freq_absoluta  2371.000000  9040.000000  28975.000000  84438.000000   \n",
       "freq_relativa     0.002494     0.009511      0.030484      0.088835   \n",
       "\n",
       "                           4              5  \n",
       "taxaMAC            80.000000     100.000000  \n",
       "freq_absoluta  205320.000000  620358.000000  \n",
       "freq_relativa       0.216012       0.652664  "
      ]
     },
     "execution_count": 4,
     "metadata": {},
     "output_type": "execute_result"
    }
   ],
   "source": [
    "# OCORRÊNCIA DA TAXA MAC EM PA\n",
    "\n",
    "df = dfTaxaMacPA[dfTaxaMacPA['InterfModel'] != 2]\n",
    "dfOcorrenciasTaxaMacPA = calcula_porcentagem_taxaMAC(df)\n",
    "dfOcorrenciasTaxaMacPA.T"
   ]
  },
  {
   "cell_type": "code",
   "execution_count": null,
   "metadata": {},
   "outputs": [],
   "source": []
  },
  {
   "cell_type": "code",
   "execution_count": 5,
   "metadata": {},
   "outputs": [
    {
     "data": {
      "text/html": [
       "<div>\n",
       "<style scoped>\n",
       "    .dataframe tbody tr th:only-of-type {\n",
       "        vertical-align: middle;\n",
       "    }\n",
       "\n",
       "    .dataframe tbody tr th {\n",
       "        vertical-align: top;\n",
       "    }\n",
       "\n",
       "    .dataframe thead th {\n",
       "        text-align: right;\n",
       "    }\n",
       "</style>\n",
       "<table border=\"1\" class=\"dataframe\">\n",
       "  <thead>\n",
       "    <tr style=\"text-align: right;\">\n",
       "      <th></th>\n",
       "      <th>0</th>\n",
       "      <th>1</th>\n",
       "      <th>2</th>\n",
       "      <th>3</th>\n",
       "      <th>4</th>\n",
       "      <th>5</th>\n",
       "    </tr>\n",
       "  </thead>\n",
       "  <tbody>\n",
       "    <tr>\n",
       "      <th>taxaMAC</th>\n",
       "      <td>0.000000</td>\n",
       "      <td>20.000000</td>\n",
       "      <td>40.000000</td>\n",
       "      <td>60.000000</td>\n",
       "      <td>80.000000</td>\n",
       "      <td>100.000000</td>\n",
       "    </tr>\n",
       "    <tr>\n",
       "      <th>freq_absoluta</th>\n",
       "      <td>289928.000000</td>\n",
       "      <td>206046.000000</td>\n",
       "      <td>228425.000000</td>\n",
       "      <td>251449.000000</td>\n",
       "      <td>257823.000000</td>\n",
       "      <td>382685.000000</td>\n",
       "    </tr>\n",
       "    <tr>\n",
       "      <th>freq_relativa</th>\n",
       "      <td>0.179371</td>\n",
       "      <td>0.127476</td>\n",
       "      <td>0.141321</td>\n",
       "      <td>0.155565</td>\n",
       "      <td>0.159509</td>\n",
       "      <td>0.236758</td>\n",
       "    </tr>\n",
       "  </tbody>\n",
       "</table>\n",
       "</div>"
      ],
      "text/plain": [
       "                           0              1              2              3  \\\n",
       "taxaMAC             0.000000      20.000000      40.000000      60.000000   \n",
       "freq_absoluta  289928.000000  206046.000000  228425.000000  251449.000000   \n",
       "freq_relativa       0.179371       0.127476       0.141321       0.155565   \n",
       "\n",
       "                           4              5  \n",
       "taxaMAC            80.000000     100.000000  \n",
       "freq_absoluta  257823.000000  382685.000000  \n",
       "freq_relativa       0.159509       0.236758  "
      ]
     },
     "execution_count": 5,
     "metadata": {},
     "output_type": "execute_result"
    }
   ],
   "source": [
    "# OCORRÊNCIA DA TAXA MAC EM PB\n",
    "\n",
    "dfOcorrenciasTaxaMacPB = calcula_porcentagem_taxaMAC(dfTaxaMacPB)\n",
    "dfOcorrenciasTaxaMacPB.T"
   ]
  },
  {
   "cell_type": "code",
   "execution_count": 6,
   "metadata": {},
   "outputs": [],
   "source": [
    "# Gráfico que sobrepõem as barras de valores entre as simulações PA e PB\n",
    "# gráfico preto e cinza\n",
    "\n",
    "# fig = dfOcorrenciasTaxaMacPA['freq_relativa'].plot(kind='bar',color='black', label='PA')\n",
    "# fig = dfOcorrenciasTaxaMacPB['freq_relativa'].plot(kind='bar', color='gray', label='PB', ax=fig, alpha=0.5)\n",
    "# fig.legend()"
   ]
  },
  {
   "cell_type": "code",
   "execution_count": 7,
   "metadata": {},
   "outputs": [
    {
     "data": {
      "text/html": [
       "<div>\n",
       "<style scoped>\n",
       "    .dataframe tbody tr th:only-of-type {\n",
       "        vertical-align: middle;\n",
       "    }\n",
       "\n",
       "    .dataframe tbody tr th {\n",
       "        vertical-align: top;\n",
       "    }\n",
       "\n",
       "    .dataframe thead th {\n",
       "        text-align: right;\n",
       "    }\n",
       "</style>\n",
       "<table border=\"1\" class=\"dataframe\">\n",
       "  <thead>\n",
       "    <tr style=\"text-align: right;\">\n",
       "      <th></th>\n",
       "      <th>tempo</th>\n",
       "      <th>node</th>\n",
       "      <th>taxaMAC</th>\n",
       "      <th>repeticao</th>\n",
       "      <th>InterfModel</th>\n",
       "      <th>simulacao</th>\n",
       "    </tr>\n",
       "  </thead>\n",
       "  <tbody>\n",
       "    <tr>\n",
       "      <th>1255008</th>\n",
       "      <td>36.050237</td>\n",
       "      <td>3</td>\n",
       "      <td>100</td>\n",
       "      <td>265</td>\n",
       "      <td>2</td>\n",
       "      <td>PA</td>\n",
       "    </tr>\n",
       "    <tr>\n",
       "      <th>1912096</th>\n",
       "      <td>54.009093</td>\n",
       "      <td>4</td>\n",
       "      <td>80</td>\n",
       "      <td>92</td>\n",
       "      <td>0</td>\n",
       "      <td>PB</td>\n",
       "    </tr>\n",
       "    <tr>\n",
       "      <th>2861680</th>\n",
       "      <td>105.440006</td>\n",
       "      <td>5</td>\n",
       "      <td>20</td>\n",
       "      <td>267</td>\n",
       "      <td>2</td>\n",
       "      <td>PB</td>\n",
       "    </tr>\n",
       "    <tr>\n",
       "      <th>832222</th>\n",
       "      <td>83.812189</td>\n",
       "      <td>5</td>\n",
       "      <td>80</td>\n",
       "      <td>176</td>\n",
       "      <td>1</td>\n",
       "      <td>PA</td>\n",
       "    </tr>\n",
       "    <tr>\n",
       "      <th>1203338</th>\n",
       "      <td>71.862441</td>\n",
       "      <td>5</td>\n",
       "      <td>40</td>\n",
       "      <td>254</td>\n",
       "      <td>2</td>\n",
       "      <td>PA</td>\n",
       "    </tr>\n",
       "  </tbody>\n",
       "</table>\n",
       "</div>"
      ],
      "text/plain": [
       "              tempo  node  taxaMAC  repeticao  InterfModel simulacao\n",
       "1255008   36.050237     3      100        265            2        PA\n",
       "1912096   54.009093     4       80         92            0        PB\n",
       "2861680  105.440006     5       20        267            2        PB\n",
       "832222    83.812189     5       80        176            1        PA\n",
       "1203338   71.862441     5       40        254            2        PA"
      ]
     },
     "execution_count": 7,
     "metadata": {},
     "output_type": "execute_result"
    }
   ],
   "source": [
    "dfTaxaMAC = dfTaxaMacPA.append(dfTaxaMacPB,ignore_index=True)\n",
    "dfTaxaMAC.sample(5)"
   ]
  },
  {
   "cell_type": "code",
   "execution_count": 8,
   "metadata": {},
   "outputs": [],
   "source": [
    "# sns.countplot(x='taxaMAC',hue='simulacao', data=dfTaxaMAC)"
   ]
  },
  {
   "cell_type": "code",
   "execution_count": null,
   "metadata": {},
   "outputs": [],
   "source": []
  },
  {
   "cell_type": "code",
   "execution_count": 21,
   "metadata": {},
   "outputs": [
    {
     "data": {
      "text/plain": [
       "Text(0.5,0,'Valores taxaMAC')"
      ]
     },
     "execution_count": 21,
     "metadata": {},
     "output_type": "execute_result"
    },
    {
     "data": {
      "image/png": "[encoded data removed]",
      "text/plain": [
       "<Figure size 432x288 with 1 Axes>"
      ]
     },
     "metadata": {},
     "output_type": "display_data"
    }
   ],
   "source": [
    "# DISTRIBUIÇÃO DA TAXA MAC PARA TODOS OS NÓS\n",
    "# DAS SIMULAÇÕES PA E PB\n",
    "\n",
    "df = dfTaxaMacPA\n",
    "# df = dfTaxaMacPA[dfTaxaMacPA['node'] != 2]\n",
    "# df = df[df['node'] != 4]\n",
    "\n",
    "dfPA = calcula_porcentagem_taxaMAC(df)\n",
    "dfPA['simulacao'] = 'PA'\n",
    "# fig = sns.barplot(x='taxaMAC',y='freq_relativa', data=df,saturation=1, color='#F2000D')\n",
    "\n",
    "df = dfTaxaMacPB\n",
    "# df = dfTaxaMacPB[dfTaxaMacPB['node'] != 2 ]\n",
    "# df = df[df['node'] != 4]\n",
    "dfPB = calcula_porcentagem_taxaMAC(df)\n",
    "dfPB['simulacao'] = 'PB'\n",
    "\n",
    "dfPorcentagem = dfPA.append(dfPB,ignore_index=True)\n",
    "dfPorcentagem['freq_relativa'] = dfPorcentagem['freq_relativa'] * 100\n",
    "\n",
    "fig = sns.barplot(x='taxaMAC',y='freq_relativa', hue='simulacao',\n",
    "                  data=dfPorcentagem,\n",
    "                  saturation=1, alpha=0.85)\n",
    "\n",
    "fig.set_title('Distribuição de ocorrência da taxaMAC')\n",
    "fig.set_ylabel('Frequência (%)')\n",
    "fig.set_xlabel('Valores taxaMAC')"
   ]
  },
  {
   "cell_type": "code",
   "execution_count": 10,
   "metadata": {},
   "outputs": [
    {
     "data": {
      "text/plain": [
       "Text(0.5,0,'Valores PRR')"
      ]
     },
     "execution_count": 10,
     "metadata": {},
     "output_type": "execute_result"
    },
    {
     "data": {
      "image/png": "[encoded data removed]",
      "text/plain": [
       "<Figure size 432x288 with 1 Axes>"
      ]
     },
     "metadata": {},
     "output_type": "display_data"
    }
   ],
   "source": [
    "fig = sns.barplot(x='taxaMAC',y='freq_relativa', hue='simulacao',\n",
    "                  data=dfPorcentagem,\n",
    "                  saturation=1, alpha=0.85)\n",
    "\n",
    "fig.set_title('Distribuição de ocorrência da taxa MAC')\n",
    "fig.set_ylabel('Frequência (%)')\n",
    "fig.set_xlabel('Valores PRR')"
   ]
  },
  {
   "cell_type": "code",
   "execution_count": 11,
   "metadata": {},
   "outputs": [
    {
     "data": {
      "text/plain": [
       "200.0"
      ]
     },
     "execution_count": 11,
     "metadata": {},
     "output_type": "execute_result"
    }
   ],
   "source": [
    "dfPorcentagem['freq_relativa'].sum()"
   ]
  },
  {
   "cell_type": "code",
   "execution_count": null,
   "metadata": {},
   "outputs": [],
   "source": []
  },
  {
   "cell_type": "code",
   "execution_count": null,
   "metadata": {},
   "outputs": [],
   "source": []
  },
  {
   "cell_type": "code",
   "execution_count": 12,
   "metadata": {},
   "outputs": [],
   "source": [
    "# df = dfTaxaMacPA[dfTaxaMacPA['node'] != 2]\n",
    "# df = df[df['node'] != 4]\n",
    "\n",
    "# fig = sns.countplot(x='taxaMAC',hue='node', data=df,saturation=0.75, palette='Reds')\n",
    "# fig.set_title('Distribuição Taxa MAC - PA')"
   ]
  },
  {
   "cell_type": "code",
   "execution_count": 13,
   "metadata": {},
   "outputs": [],
   "source": [
    "# df = dfTaxaMacPB[dfTaxaMacPB['node'] != 2]\n",
    "# df = df[df['node'] != 4]\n",
    "\n",
    "# fig = sns.countplot(x='taxaMAC',hue='node', data=df,saturation=0.8, palette='Blues')\n",
    "# fig.set_title('Distribuição Taxa MAC - PB')"
   ]
  },
  {
   "cell_type": "code",
   "execution_count": 14,
   "metadata": {},
   "outputs": [
    {
     "data": {
      "text/plain": [
       "Text(0.5,1,'Distribuição Taxa MAC\\nNós 1, 3 e 5')"
      ]
     },
     "execution_count": 14,
     "metadata": {},
     "output_type": "execute_result"
    },
    {
     "data": {
      "image/png": "[encoded data removed]",
      "text/plain": [
       "<Figure size 432x288 with 1 Axes>"
      ]
     },
     "metadata": {},
     "output_type": "display_data"
    }
   ],
   "source": [
    "sns.set_style('whitegrid')\n",
    "df = dfTaxaMacPA[dfTaxaMacPA['node'] != 2]\n",
    "df = df[df['node'] != 4]\n",
    "\n",
    "cmPA = {\n",
    "    1 : '#3333ff',\n",
    "    3 : '#1a1aff',\n",
    "    5 : '#000099'\n",
    "}\n",
    "\n",
    "fig = sns.countplot(x='taxaMAC',hue='node', data=df,saturation=1, palette=cmPA, alpha=0.85)\n",
    "\n",
    "df = dfTaxaMacPB[dfTaxaMacPB['node'] != 2 ]\n",
    "df = df[df['node'] != 4]\n",
    "\n",
    "cmPB = {\n",
    "    1 : '#ff666e',\n",
    "    3 : '#ff333d',\n",
    "    5 : '#F2000D'\n",
    "}\n",
    "\n",
    "fig = sns.countplot(x='taxaMAC',hue='node', data=df,saturation=1, palette=cmPB, ax=fig, alpha=0.85)\n",
    "\n",
    "#fig.legend()\n",
    "plt.legend(bbox_to_anchor=(1.005, 1), loc=2, borderaxespad=0.)\n",
    "\n",
    "plt.figtext(1.01,0.78,'PA')\n",
    "plt.figtext(1.01,0.65,'PB')\n",
    "\n",
    "fig.set_title('Distribuição Taxa MAC\\nNós 1, 3 e 5')"
   ]
  },
  {
   "cell_type": "code",
   "execution_count": 15,
   "metadata": {},
   "outputs": [],
   "source": [
    "# dfTaxaMacPA.groupby(by=\"taxaMAC\",as_index=False).count()"
   ]
  },
  {
   "cell_type": "markdown",
   "metadata": {},
   "source": [
    "## Distribuição Binomial"
   ]
  },
  {
   "cell_type": "code",
   "execution_count": 16,
   "metadata": {},
   "outputs": [
    {
     "data": {
      "text/plain": [
       "Text(0.5,1,'Distribuição Binomial')"
      ]
     },
     "execution_count": 16,
     "metadata": {},
     "output_type": "execute_result"
    },
    {
     "data": {
      "image/png": "[encoded data removed]",
      "text/plain": [
       "<Figure size 432x288 with 1 Axes>"
      ]
     },
     "metadata": {},
     "output_type": "display_data"
    }
   ],
   "source": [
    "# Importando a Distribuição binomial da biblioteca scipy\n",
    "from scipy.stats import binom\n",
    "\n",
    "n, p = 5, 0.9\n",
    "x = np.arange(0,n+1,1)\n",
    "y = binom.pmf(x,n,p) * 100\n",
    "\n",
    "plt.grid(b=None, which='minor', axis='x')\n",
    "\n",
    "fig = plt.bar(x,y)\n",
    "\n",
    "plt.xlabel(\"Quantidade de sucesso em n tentativas\")\n",
    "plt.ylabel(\"Frequência (%)\")\n",
    "plt.title('Distribuição Binomial')"
   ]
  },
  {
   "cell_type": "code",
   "execution_count": null,
   "metadata": {},
   "outputs": [],
   "source": []
  },
  {
   "cell_type": "code",
   "execution_count": null,
   "metadata": {},
   "outputs": [],
   "source": []
  },
  {
   "cell_type": "markdown",
   "metadata": {},
   "source": [
    "### Distribuição logarítimica Discreta"
   ]
  },
  {
   "cell_type": "code",
   "execution_count": 17,
   "metadata": {},
   "outputs": [],
   "source": [
    "from scipy.stats import logser"
   ]
  },
  {
   "cell_type": "code",
   "execution_count": 18,
   "metadata": {},
   "outputs": [
    {
     "data": {
      "text/plain": [
       "<BarContainer object of 5 artists>"
      ]
     },
     "execution_count": 18,
     "metadata": {},
     "output_type": "execute_result"
    },
    {
     "data": {
      "image/png": "[encoded data removed]",
      "text/plain": [
       "<Figure size 432x288 with 1 Axes>"
      ]
     },
     "metadata": {},
     "output_type": "display_data"
    }
   ],
   "source": [
    "p = 0.9\n",
    "x = np.arange(1,6,1)\n",
    "rv = logser(p)\n",
    "y = rv.pmf(x)\n",
    "plt.bar(x,y)"
   ]
  },
  {
   "cell_type": "code",
   "execution_count": 19,
   "metadata": {},
   "outputs": [
    {
     "data": {
      "text/plain": [
       "<BarContainer object of 5 artists>"
      ]
     },
     "execution_count": 19,
     "metadata": {},
     "output_type": "execute_result"
    },
    {
     "data": {
      "image/png": "[encoded data removed]",
      "text/plain": [
       "<Figure size 432x288 with 1 Axes>"
      ]
     },
     "metadata": {},
     "output_type": "display_data"
    }
   ],
   "source": [
    "p = 0.1\n",
    "x = np.arange(1,6,1)\n",
    "rv = logser(p)\n",
    "y = rv.pmf(x)\n",
    "plt.bar(x,y)"
   ]
  },
  {
   "cell_type": "markdown",
   "metadata": {},
   "source": [
    "### Zipf Distribuição"
   ]
  },
  {
   "cell_type": "code",
   "execution_count": 20,
   "metadata": {},
   "outputs": [
    {
     "data": {
      "text/plain": [
       "<BarContainer object of 5 artists>"
      ]
     },
     "execution_count": 20,
     "metadata": {},
     "output_type": "execute_result"
    },
    {
     "data": {
      "image/png": "[encoded data removed]",
      "text/plain": [
       "<Figure size 432x288 with 1 Axes>"
      ]
     },
     "metadata": {},
     "output_type": "display_data"
    }
   ],
   "source": [
    "from scipy.stats import zipf\n",
    "a = 1.5\n",
    "rv = zipf(a)\n",
    "x = np.arange(1,6,1)\n",
    "y = rv.pmf(x)\n",
    "plt.bar(x,y)"
   ]
  },
  {
   "cell_type": "code",
   "execution_count": null,
   "metadata": {},
   "outputs": [],
   "source": []
  },
  {
   "cell_type": "code",
   "execution_count": null,
   "metadata": {},
   "outputs": [],
   "source": []
  },
  {
   "cell_type": "code",
   "execution_count": null,
   "metadata": {},
   "outputs": [],
   "source": []
  }
 ],
 "metadata": {
  "kernelspec": {
   "display_name": "Python 3",
   "language": "python",
   "name": "python3"
  },
  "language_info": {
   "codemirror_mode": {
    "name": "ipython",
    "version": 3
   },
   "file_extension": ".py",
   "mimetype": "text/x-python",
   "name": "python",
   "nbconvert_exporter": "python",
   "pygments_lexer": "ipython3",
   "version": "3.6.4"
  }
 },
 "nbformat": 4,
 "nbformat_minor": 2
}
