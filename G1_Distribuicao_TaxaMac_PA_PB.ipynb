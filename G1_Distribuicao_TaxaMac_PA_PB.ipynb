{
 "cells": [
  {
   "cell_type": "code",
   "execution_count": 1,
   "metadata": {},
   "outputs": [],
   "source": [
    "# importando as bibliotecas necessárias\n",
    "import numpy as np\n",
    "import pandas as pd\n",
    "import os\n",
    "from os import path\n",
    "import pprint as pp\n",
    "\n",
    "import matplotlib.pyplot as plt\n",
    "from matplotlib import cm\n",
    "\n",
    "import seaborn as sns\n",
    "#sns.set_style(\"darkgrid\") # configuração de estilos dos gráficos do seaborn\n",
    "sns.set_style(\"whitegrid\")\n",
    "\n",
    "% matplotlib inline"
   ]
  },
  {
   "cell_type": "code",
   "execution_count": 2,
   "metadata": {},
   "outputs": [],
   "source": [
    "diretorioPA = 'simulacao_4.0.0_PA'\n",
    "diretorioPB = 'simulacao_4.0.1_PB'\n",
    "\n",
    "arquivoDados = 'dataTaxaMacFromMacLayer.csv'\n",
    "colunas = ['tempo', 'node', 'taxaMAC', 'repeticao'] # como os dados estão organizados no arquivo\n"
   ]
  },
  {
   "cell_type": "code",
   "execution_count": 3,
   "metadata": {},
   "outputs": [],
   "source": [
    "# Cada simulacao executada 100 vezes\n",
    "# como temos três modos de interferência: 0, 1 e 2\n",
    "# então foram executadas 300 repeticoes no total.\n",
    "\n",
    "def inferir_modeInterferencia_de_repeticao(item):\n",
    "    if item <= 100:\n",
    "        return 0\n",
    "    elif item <= 200:\n",
    "        return 1\n",
    "    elif item <= 300:\n",
    "        return 2\n",
    "    else:\n",
    "        raise Exception('Parâmetro não esperado!')"
   ]
  },
  {
   "cell_type": "code",
   "execution_count": 4,
   "metadata": {},
   "outputs": [],
   "source": [
    "def calcula_porcentagem_taxaMAC(dados, repeticao = 0):\n",
    "    if repeticao != 0:\n",
    "        dados = dados[dados[\"repeticao\"] == repeticao]\n",
    "    df = dados.groupby(by=\"taxaMAC\",as_index=False).count()\n",
    "    total = df[\"node\"].sum()\n",
    "    resultado = pd.DataFrame()\n",
    "    resultado['taxaMAC'] = df['taxaMAC']\n",
    "    resultado[\"freq_absoluta\"] = df[\"node\"]\n",
    "    resultado[\"freq_relativa\"] = df[\"node\"] / total\n",
    "    return resultado"
   ]
  },
  {
   "cell_type": "code",
   "execution_count": 5,
   "metadata": {},
   "outputs": [
    {
     "data": {
      "text/html": [
       "<div>\n",
       "<style scoped>\n",
       "    .dataframe tbody tr th:only-of-type {\n",
       "        vertical-align: middle;\n",
       "    }\n",
       "\n",
       "    .dataframe tbody tr th {\n",
       "        vertical-align: top;\n",
       "    }\n",
       "\n",
       "    .dataframe thead th {\n",
       "        text-align: right;\n",
       "    }\n",
       "</style>\n",
       "<table border=\"1\" class=\"dataframe\">\n",
       "  <thead>\n",
       "    <tr style=\"text-align: right;\">\n",
       "      <th></th>\n",
       "      <th>tempo</th>\n",
       "      <th>node</th>\n",
       "      <th>taxaMAC</th>\n",
       "      <th>repeticao</th>\n",
       "      <th>InterfModel</th>\n",
       "      <th>simulacao</th>\n",
       "    </tr>\n",
       "  </thead>\n",
       "  <tbody>\n",
       "    <tr>\n",
       "      <th>0</th>\n",
       "      <td>1.245767</td>\n",
       "      <td>4</td>\n",
       "      <td>60</td>\n",
       "      <td>1</td>\n",
       "      <td>0</td>\n",
       "      <td>PA</td>\n",
       "    </tr>\n",
       "    <tr>\n",
       "      <th>1</th>\n",
       "      <td>1.273110</td>\n",
       "      <td>5</td>\n",
       "      <td>40</td>\n",
       "      <td>1</td>\n",
       "      <td>0</td>\n",
       "      <td>PA</td>\n",
       "    </tr>\n",
       "    <tr>\n",
       "      <th>2</th>\n",
       "      <td>1.468203</td>\n",
       "      <td>3</td>\n",
       "      <td>60</td>\n",
       "      <td>1</td>\n",
       "      <td>0</td>\n",
       "      <td>PA</td>\n",
       "    </tr>\n",
       "    <tr>\n",
       "      <th>3</th>\n",
       "      <td>1.477734</td>\n",
       "      <td>1</td>\n",
       "      <td>20</td>\n",
       "      <td>1</td>\n",
       "      <td>0</td>\n",
       "      <td>PA</td>\n",
       "    </tr>\n",
       "    <tr>\n",
       "      <th>4</th>\n",
       "      <td>1.483515</td>\n",
       "      <td>5</td>\n",
       "      <td>100</td>\n",
       "      <td>1</td>\n",
       "      <td>0</td>\n",
       "      <td>PA</td>\n",
       "    </tr>\n",
       "  </tbody>\n",
       "</table>\n",
       "</div>"
      ],
      "text/plain": [
       "      tempo  node  taxaMAC  repeticao  InterfModel simulacao\n",
       "0  1.245767     4       60          1            0        PA\n",
       "1  1.273110     5       40          1            0        PA\n",
       "2  1.468203     3       60          1            0        PA\n",
       "3  1.477734     1       20          1            0        PA\n",
       "4  1.483515     5      100          1            0        PA"
      ]
     },
     "execution_count": 5,
     "metadata": {},
     "output_type": "execute_result"
    }
   ],
   "source": [
    "arquivo = path.join(diretorioPA, arquivoDados)\n",
    "dfTaxaMacPA = pd.read_csv(arquivo,delimiter='|',names=colunas)\n",
    "dfTaxaMacPA['InterfModel'] = dfTaxaMacPA['repeticao'].apply(inferir_modeInterferencia_de_repeticao)\n",
    "dfTaxaMacPA['simulacao'] = 'PA'\n",
    "dfTaxaMacPA.head()"
   ]
  },
  {
   "cell_type": "code",
   "execution_count": 6,
   "metadata": {},
   "outputs": [
    {
     "data": {
      "text/html": [
       "<div>\n",
       "<style scoped>\n",
       "    .dataframe tbody tr th:only-of-type {\n",
       "        vertical-align: middle;\n",
       "    }\n",
       "\n",
       "    .dataframe tbody tr th {\n",
       "        vertical-align: top;\n",
       "    }\n",
       "\n",
       "    .dataframe thead th {\n",
       "        text-align: right;\n",
       "    }\n",
       "</style>\n",
       "<table border=\"1\" class=\"dataframe\">\n",
       "  <thead>\n",
       "    <tr style=\"text-align: right;\">\n",
       "      <th></th>\n",
       "      <th>0</th>\n",
       "      <th>1</th>\n",
       "      <th>2</th>\n",
       "      <th>3</th>\n",
       "      <th>4</th>\n",
       "      <th>5</th>\n",
       "    </tr>\n",
       "  </thead>\n",
       "  <tbody>\n",
       "    <tr>\n",
       "      <th>taxaMAC</th>\n",
       "      <td>0.000000</td>\n",
       "      <td>20.000000</td>\n",
       "      <td>40.000000</td>\n",
       "      <td>60.000000</td>\n",
       "      <td>80.000000</td>\n",
       "      <td>100.000000</td>\n",
       "    </tr>\n",
       "    <tr>\n",
       "      <th>freq_absoluta</th>\n",
       "      <td>2371.000000</td>\n",
       "      <td>9040.000000</td>\n",
       "      <td>28975.000000</td>\n",
       "      <td>84438.000000</td>\n",
       "      <td>205320.000000</td>\n",
       "      <td>620358.000000</td>\n",
       "    </tr>\n",
       "    <tr>\n",
       "      <th>freq_relativa</th>\n",
       "      <td>0.002494</td>\n",
       "      <td>0.009511</td>\n",
       "      <td>0.030484</td>\n",
       "      <td>0.088835</td>\n",
       "      <td>0.216012</td>\n",
       "      <td>0.652664</td>\n",
       "    </tr>\n",
       "  </tbody>\n",
       "</table>\n",
       "</div>"
      ],
      "text/plain": [
       "                         0            1             2             3  \\\n",
       "taxaMAC           0.000000    20.000000     40.000000     60.000000   \n",
       "freq_absoluta  2371.000000  9040.000000  28975.000000  84438.000000   \n",
       "freq_relativa     0.002494     0.009511      0.030484      0.088835   \n",
       "\n",
       "                           4              5  \n",
       "taxaMAC            80.000000     100.000000  \n",
       "freq_absoluta  205320.000000  620358.000000  \n",
       "freq_relativa       0.216012       0.652664  "
      ]
     },
     "execution_count": 6,
     "metadata": {},
     "output_type": "execute_result"
    }
   ],
   "source": [
    "df = dfTaxaMacPA[dfTaxaMacPA['InterfModel'] != 2]\n",
    "dfOcorrenciasTaxaMacPA = calcula_porcentagem_taxaMAC(df)\n",
    "#pp.pprint(dfOcorrenciasTaxaMacPA.T)\n",
    "#fig = dfOcorrenciasTaxaMacPA['freq_relativa'].plot(kind='bar',color='steelblue')\n",
    "dfOcorrenciasTaxaMacPA.T"
   ]
  },
  {
   "cell_type": "code",
   "execution_count": 7,
   "metadata": {},
   "outputs": [
    {
     "data": {
      "text/html": [
       "<div>\n",
       "<style scoped>\n",
       "    .dataframe tbody tr th:only-of-type {\n",
       "        vertical-align: middle;\n",
       "    }\n",
       "\n",
       "    .dataframe tbody tr th {\n",
       "        vertical-align: top;\n",
       "    }\n",
       "\n",
       "    .dataframe thead th {\n",
       "        text-align: right;\n",
       "    }\n",
       "</style>\n",
       "<table border=\"1\" class=\"dataframe\">\n",
       "  <thead>\n",
       "    <tr style=\"text-align: right;\">\n",
       "      <th></th>\n",
       "      <th>tempo</th>\n",
       "      <th>node</th>\n",
       "      <th>taxaMAC</th>\n",
       "      <th>repeticao</th>\n",
       "      <th>InterfModel</th>\n",
       "      <th>simulacao</th>\n",
       "    </tr>\n",
       "  </thead>\n",
       "  <tbody>\n",
       "    <tr>\n",
       "      <th>0</th>\n",
       "      <td>1.239595</td>\n",
       "      <td>5</td>\n",
       "      <td>60</td>\n",
       "      <td>1</td>\n",
       "      <td>0</td>\n",
       "      <td>PB</td>\n",
       "    </tr>\n",
       "    <tr>\n",
       "      <th>1</th>\n",
       "      <td>1.261000</td>\n",
       "      <td>2</td>\n",
       "      <td>20</td>\n",
       "      <td>1</td>\n",
       "      <td>0</td>\n",
       "      <td>PB</td>\n",
       "    </tr>\n",
       "    <tr>\n",
       "      <th>2</th>\n",
       "      <td>1.483203</td>\n",
       "      <td>5</td>\n",
       "      <td>80</td>\n",
       "      <td>1</td>\n",
       "      <td>0</td>\n",
       "      <td>PB</td>\n",
       "    </tr>\n",
       "    <tr>\n",
       "      <th>3</th>\n",
       "      <td>1.487266</td>\n",
       "      <td>3</td>\n",
       "      <td>60</td>\n",
       "      <td>1</td>\n",
       "      <td>0</td>\n",
       "      <td>PB</td>\n",
       "    </tr>\n",
       "    <tr>\n",
       "      <th>4</th>\n",
       "      <td>1.517031</td>\n",
       "      <td>4</td>\n",
       "      <td>60</td>\n",
       "      <td>1</td>\n",
       "      <td>0</td>\n",
       "      <td>PB</td>\n",
       "    </tr>\n",
       "  </tbody>\n",
       "</table>\n",
       "</div>"
      ],
      "text/plain": [
       "      tempo  node  taxaMAC  repeticao  InterfModel simulacao\n",
       "0  1.239595     5       60          1            0        PB\n",
       "1  1.261000     2       20          1            0        PB\n",
       "2  1.483203     5       80          1            0        PB\n",
       "3  1.487266     3       60          1            0        PB\n",
       "4  1.517031     4       60          1            0        PB"
      ]
     },
     "execution_count": 7,
     "metadata": {},
     "output_type": "execute_result"
    }
   ],
   "source": [
    "arquivo = path.join(diretorioPB, arquivoDados)\n",
    "dfTaxaMacPB = pd.read_csv(arquivo,delimiter='|', names=colunas)\n",
    "dfTaxaMacPB['InterfModel'] = dfTaxaMacPB['repeticao'].apply(inferir_modeInterferencia_de_repeticao)\n",
    "dfTaxaMacPB['simulacao'] = 'PB'\n",
    "dfTaxaMacPB.head()"
   ]
  },
  {
   "cell_type": "code",
   "execution_count": 8,
   "metadata": {},
   "outputs": [
    {
     "data": {
      "text/html": [
       "<div>\n",
       "<style scoped>\n",
       "    .dataframe tbody tr th:only-of-type {\n",
       "        vertical-align: middle;\n",
       "    }\n",
       "\n",
       "    .dataframe tbody tr th {\n",
       "        vertical-align: top;\n",
       "    }\n",
       "\n",
       "    .dataframe thead th {\n",
       "        text-align: right;\n",
       "    }\n",
       "</style>\n",
       "<table border=\"1\" class=\"dataframe\">\n",
       "  <thead>\n",
       "    <tr style=\"text-align: right;\">\n",
       "      <th></th>\n",
       "      <th>0</th>\n",
       "      <th>1</th>\n",
       "      <th>2</th>\n",
       "      <th>3</th>\n",
       "      <th>4</th>\n",
       "      <th>5</th>\n",
       "    </tr>\n",
       "  </thead>\n",
       "  <tbody>\n",
       "    <tr>\n",
       "      <th>taxaMAC</th>\n",
       "      <td>0.000000</td>\n",
       "      <td>20.000000</td>\n",
       "      <td>40.000000</td>\n",
       "      <td>60.000000</td>\n",
       "      <td>80.000000</td>\n",
       "      <td>100.000000</td>\n",
       "    </tr>\n",
       "    <tr>\n",
       "      <th>freq_absoluta</th>\n",
       "      <td>289928.000000</td>\n",
       "      <td>206046.000000</td>\n",
       "      <td>228425.000000</td>\n",
       "      <td>251449.000000</td>\n",
       "      <td>257823.000000</td>\n",
       "      <td>382685.000000</td>\n",
       "    </tr>\n",
       "    <tr>\n",
       "      <th>freq_relativa</th>\n",
       "      <td>0.179371</td>\n",
       "      <td>0.127476</td>\n",
       "      <td>0.141321</td>\n",
       "      <td>0.155565</td>\n",
       "      <td>0.159509</td>\n",
       "      <td>0.236758</td>\n",
       "    </tr>\n",
       "  </tbody>\n",
       "</table>\n",
       "</div>"
      ],
      "text/plain": [
       "                           0              1              2              3  \\\n",
       "taxaMAC             0.000000      20.000000      40.000000      60.000000   \n",
       "freq_absoluta  289928.000000  206046.000000  228425.000000  251449.000000   \n",
       "freq_relativa       0.179371       0.127476       0.141321       0.155565   \n",
       "\n",
       "                           4              5  \n",
       "taxaMAC            80.000000     100.000000  \n",
       "freq_absoluta  257823.000000  382685.000000  \n",
       "freq_relativa       0.159509       0.236758  "
      ]
     },
     "execution_count": 8,
     "metadata": {},
     "output_type": "execute_result"
    }
   ],
   "source": [
    "dfOcorrenciasTaxaMacPB = calcula_porcentagem_taxaMAC(dfTaxaMacPB)\n",
    "dfOcorrenciasTaxaMacPB.T"
   ]
  },
  {
   "cell_type": "code",
   "execution_count": 9,
   "metadata": {},
   "outputs": [
    {
     "data": {
      "text/plain": [
       "<matplotlib.legend.Legend at 0x7f91acb91898>"
      ]
     },
     "execution_count": 9,
     "metadata": {},
     "output_type": "execute_result"
    },
    {
     "data": {
      "image/png": "[encoded data removed]",
      "text/plain": [
       "<matplotlib.figure.Figure at 0x7f91aeb534a8>"
      ]
     },
     "metadata": {},
     "output_type": "display_data"
    }
   ],
   "source": [
    "fig = dfOcorrenciasTaxaMacPA['freq_relativa'].plot(kind='bar',color='black', label='PA')\n",
    "fig = dfOcorrenciasTaxaMacPB['freq_relativa'].plot(kind='bar', color='gray', label='PB', ax=fig, alpha=0.5)\n",
    "fig.legend()"
   ]
  },
  {
   "cell_type": "code",
   "execution_count": null,
   "metadata": {},
   "outputs": [],
   "source": []
  },
  {
   "cell_type": "code",
   "execution_count": 10,
   "metadata": {},
   "outputs": [
    {
     "data": {
      "text/html": [
       "<div>\n",
       "<style scoped>\n",
       "    .dataframe tbody tr th:only-of-type {\n",
       "        vertical-align: middle;\n",
       "    }\n",
       "\n",
       "    .dataframe tbody tr th {\n",
       "        vertical-align: top;\n",
       "    }\n",
       "\n",
       "    .dataframe thead th {\n",
       "        text-align: right;\n",
       "    }\n",
       "</style>\n",
       "<table border=\"1\" class=\"dataframe\">\n",
       "  <thead>\n",
       "    <tr style=\"text-align: right;\">\n",
       "      <th></th>\n",
       "      <th>tempo</th>\n",
       "      <th>node</th>\n",
       "      <th>taxaMAC</th>\n",
       "      <th>repeticao</th>\n",
       "      <th>InterfModel</th>\n",
       "      <th>simulacao</th>\n",
       "    </tr>\n",
       "  </thead>\n",
       "  <tbody>\n",
       "    <tr>\n",
       "      <th>1635211</th>\n",
       "      <td>72.313910</td>\n",
       "      <td>3</td>\n",
       "      <td>80</td>\n",
       "      <td>40</td>\n",
       "      <td>0</td>\n",
       "      <td>PB</td>\n",
       "    </tr>\n",
       "    <tr>\n",
       "      <th>2294510</th>\n",
       "      <td>76.634475</td>\n",
       "      <td>4</td>\n",
       "      <td>40</td>\n",
       "      <td>162</td>\n",
       "      <td>1</td>\n",
       "      <td>PB</td>\n",
       "    </tr>\n",
       "    <tr>\n",
       "      <th>1603628</th>\n",
       "      <td>105.166423</td>\n",
       "      <td>4</td>\n",
       "      <td>80</td>\n",
       "      <td>34</td>\n",
       "      <td>0</td>\n",
       "      <td>PB</td>\n",
       "    </tr>\n",
       "    <tr>\n",
       "      <th>195801</th>\n",
       "      <td>135.667371</td>\n",
       "      <td>5</td>\n",
       "      <td>100</td>\n",
       "      <td>42</td>\n",
       "      <td>0</td>\n",
       "      <td>PA</td>\n",
       "    </tr>\n",
       "    <tr>\n",
       "      <th>2837187</th>\n",
       "      <td>226.863206</td>\n",
       "      <td>5</td>\n",
       "      <td>40</td>\n",
       "      <td>262</td>\n",
       "      <td>2</td>\n",
       "      <td>PB</td>\n",
       "    </tr>\n",
       "  </tbody>\n",
       "</table>\n",
       "</div>"
      ],
      "text/plain": [
       "              tempo  node  taxaMAC  repeticao  InterfModel simulacao\n",
       "1635211   72.313910     3       80         40            0        PB\n",
       "2294510   76.634475     4       40        162            1        PB\n",
       "1603628  105.166423     4       80         34            0        PB\n",
       "195801   135.667371     5      100         42            0        PA\n",
       "2837187  226.863206     5       40        262            2        PB"
      ]
     },
     "execution_count": 10,
     "metadata": {},
     "output_type": "execute_result"
    }
   ],
   "source": [
    "dfTaxaMAC = dfTaxaMacPA.append(dfTaxaMacPB,ignore_index=True)\n",
    "dfTaxaMAC.sample(5)"
   ]
  },
  {
   "cell_type": "code",
   "execution_count": 11,
   "metadata": {},
   "outputs": [
    {
     "data": {
      "text/plain": [
       "<matplotlib.axes._subplots.AxesSubplot at 0x7f91a925f278>"
      ]
     },
     "execution_count": 11,
     "metadata": {},
     "output_type": "execute_result"
    },
    {
     "data": {
      "image/png": "[encoded data removed]",
      "text/plain": [
       "<matplotlib.figure.Figure at 0x7f91aa8bb128>"
      ]
     },
     "metadata": {},
     "output_type": "display_data"
    }
   ],
   "source": [
    "sns.countplot(x='taxaMAC',hue='simulacao', data=dfTaxaMAC)"
   ]
  },
  {
   "cell_type": "code",
   "execution_count": 12,
   "metadata": {},
   "outputs": [
    {
     "data": {
      "image/png": "[encoded data removed]",
      "text/plain": [
       "<matplotlib.figure.Figure at 0x7f91aeb93160>"
      ]
     },
     "metadata": {},
     "output_type": "display_data"
    }
   ],
   "source": [
    "# DISTRIBUIÇÃO DA TAXA MAC PARA OS NÓS 1, 3 E 5\n",
    "# DAS SIMULAÇÕES PA E PB\n",
    "\n",
    "df = dfTaxaMacPA[dfTaxaMacPA['node'] != 2]\n",
    "df = df[df['node'] != 4]\n",
    "\n",
    "dfPA = calcula_porcentagem_taxaMAC(df)\n",
    "dfPA['simulacao'] = 'PA'\n",
    "# fig = sns.barplot(x='taxaMAC',y='freq_relativa', data=df,saturation=1, color='#F2000D')\n",
    "\n",
    "df = dfTaxaMacPB[dfTaxaMacPB['node'] != 2 ]\n",
    "df = df[df['node'] != 4]\n",
    "dfPB = calcula_porcentagem_taxaMAC(df)\n",
    "dfPB['simulacao'] = 'PB'\n",
    "\n",
    "dfPorcentagem = dfPA.append(dfPB,ignore_index=True)\n",
    "\n",
    "\n",
    "fig = sns.barplot(x='taxaMAC',y='freq_relativa', hue='simulacao',\n",
    "                  data=dfPorcentagem,\n",
    "                  saturation=1, alpha=0.85)"
   ]
  },
  {
   "cell_type": "code",
   "execution_count": 13,
   "metadata": {},
   "outputs": [
    {
     "data": {
      "text/plain": [
       "Text(0.5,1,'Distribuição da Taxa MAC')"
      ]
     },
     "execution_count": 13,
     "metadata": {},
     "output_type": "execute_result"
    },
    {
     "data": {
      "image/png": "[encoded data removed]",
      "text/plain": [
       "<matplotlib.figure.Figure at 0x7f91aeb21080>"
      ]
     },
     "metadata": {},
     "output_type": "display_data"
    }
   ],
   "source": [
    "# DISTRIBUIÇÃO DA TAXA MAC PARA TODOS OS NÓS\n",
    "# DAS SIMULAÇÕES PA E PB\n",
    "\n",
    "df = dfTaxaMacPA\n",
    "# df = dfTaxaMacPA[dfTaxaMacPA['node'] != 2]\n",
    "# df = df[df['node'] != 4]\n",
    "\n",
    "dfPA = calcula_porcentagem_taxaMAC(df)\n",
    "dfPA['simulacao'] = 'PA'\n",
    "# fig = sns.barplot(x='taxaMAC',y='freq_relativa', data=df,saturation=1, color='#F2000D')\n",
    "\n",
    "df = dfTaxaMacPB\n",
    "# df = dfTaxaMacPB[dfTaxaMacPB['node'] != 2 ]\n",
    "# df = df[df['node'] != 4]\n",
    "dfPB = calcula_porcentagem_taxaMAC(df)\n",
    "dfPB['simulacao'] = 'PB'\n",
    "\n",
    "dfPorcentagem = dfPA.append(dfPB,ignore_index=True)\n",
    "\n",
    "\n",
    "fig = sns.barplot(x='taxaMAC',y='freq_relativa', hue='simulacao',\n",
    "                  data=dfPorcentagem,\n",
    "                  saturation=1, alpha=0.85)\n",
    "fig.set_title('Distribuição da Taxa MAC')"
   ]
  },
  {
   "cell_type": "code",
   "execution_count": 14,
   "metadata": {},
   "outputs": [
    {
     "data": {
      "text/plain": [
       "Text(0.5,1,'Distribuição Taxa MAC - PA')"
      ]
     },
     "execution_count": 14,
     "metadata": {},
     "output_type": "execute_result"
    },
    {
     "data": {
      "image/png": "[encoded data removed]",
      "text/plain": [
       "<matplotlib.figure.Figure at 0x7f91aeaef9e8>"
      ]
     },
     "metadata": {},
     "output_type": "display_data"
    }
   ],
   "source": [
    "df = dfTaxaMacPA[dfTaxaMacPA['node'] != 2]\n",
    "df = df[df['node'] != 4]\n",
    "\n",
    "fig = sns.countplot(x='taxaMAC',hue='node', data=df,saturation=0.75, palette='Reds')\n",
    "fig.set_title('Distribuição Taxa MAC - PA')"
   ]
  },
  {
   "cell_type": "code",
   "execution_count": 15,
   "metadata": {},
   "outputs": [
    {
     "data": {
      "text/plain": [
       "Text(0.5,1,'Distribuição Taxa MAC - PB')"
      ]
     },
     "execution_count": 15,
     "metadata": {},
     "output_type": "execute_result"
    },
    {
     "data": {
      "image/png": "[encoded data removed]",
      "text/plain": [
       "<matplotlib.figure.Figure at 0x7f91a925fa20>"
      ]
     },
     "metadata": {},
     "output_type": "display_data"
    }
   ],
   "source": [
    "df = dfTaxaMacPB[dfTaxaMacPB['node'] != 2]\n",
    "df = df[df['node'] != 4]\n",
    "\n",
    "fig = sns.countplot(x='taxaMAC',hue='node', data=df,saturation=0.8, palette='Blues')\n",
    "fig.set_title('Distribuição Taxa MAC - PB')"
   ]
  },
  {
   "cell_type": "code",
   "execution_count": 16,
   "metadata": {},
   "outputs": [
    {
     "data": {
      "text/plain": [
       "Text(0.5,1,'Distribuição Taxa MAC\\nNós 1, 3 e 5')"
      ]
     },
     "execution_count": 16,
     "metadata": {},
     "output_type": "execute_result"
    },
    {
     "data": {
      "image/png": "[encoded data removed]",
      "text/plain": [
       "<matplotlib.figure.Figure at 0x7f91ae90b128>"
      ]
     },
     "metadata": {},
     "output_type": "display_data"
    }
   ],
   "source": [
    "sns.set_style('whitegrid')\n",
    "df = dfTaxaMacPA[dfTaxaMacPA['node'] != 2]\n",
    "df = df[df['node'] != 4]\n",
    "\n",
    "cmPA = {\n",
    "    1 : '#3333ff',\n",
    "    3 : '#1a1aff',\n",
    "    5 : '#000099'\n",
    "}\n",
    "\n",
    "fig = sns.countplot(x='taxaMAC',hue='node', data=df,saturation=1, palette=cmPA, alpha=0.85)\n",
    "\n",
    "df = dfTaxaMacPB[dfTaxaMacPB['node'] != 2 ]\n",
    "df = df[df['node'] != 4]\n",
    "\n",
    "cmPB = {\n",
    "    1 : '#ff666e',\n",
    "    3 : '#ff333d',\n",
    "    5 : '#F2000D'\n",
    "}\n",
    "\n",
    "fig = sns.countplot(x='taxaMAC',hue='node', data=df,saturation=1, palette=cmPB, ax=fig, alpha=0.85)\n",
    "\n",
    "#fig.legend()\n",
    "plt.legend(bbox_to_anchor=(1.005, 1), loc=2, borderaxespad=0.)\n",
    "\n",
    "plt.figtext(1.01,0.78,'PA')\n",
    "plt.figtext(1.01,0.65,'PB')\n",
    "\n",
    "fig.set_title('Distribuição Taxa MAC\\nNós 1, 3 e 5')"
   ]
  },
  {
   "cell_type": "code",
   "execution_count": 17,
   "metadata": {},
   "outputs": [],
   "source": [
    "# dfTaxaMacPA.groupby(by=\"taxaMAC\",as_index=False).count()"
   ]
  },
  {
   "cell_type": "markdown",
   "metadata": {},
   "source": [
    "## Distribuição Binomial"
   ]
  },
  {
   "cell_type": "code",
   "execution_count": 18,
   "metadata": {},
   "outputs": [],
   "source": [
    "# Importando a Distribuição binomial da biblioteca scipy\n",
    "from scipy.stats import binom"
   ]
  },
  {
   "cell_type": "code",
   "execution_count": 19,
   "metadata": {},
   "outputs": [
    {
     "data": {
      "text/plain": [
       "<Container object of 6 artists>"
      ]
     },
     "execution_count": 19,
     "metadata": {},
     "output_type": "execute_result"
    },
    {
     "data": {
      "image/png": "[encoded data removed]",
      "text/plain": [
       "<matplotlib.figure.Figure at 0x7f91ae9c3278>"
      ]
     },
     "metadata": {},
     "output_type": "display_data"
    }
   ],
   "source": [
    "n, p = 5, 0.1\n",
    "x = np.arange(0,n+1,1)\n",
    "y = binom.pmf(x,n,p)\n",
    "plt.bar(x,y)"
   ]
  },
  {
   "cell_type": "code",
   "execution_count": 20,
   "metadata": {},
   "outputs": [
    {
     "data": {
      "image/png": "[encoded data removed]",
      "text/plain": [
       "<matplotlib.figure.Figure at 0x7f91aeb04470>"
      ]
     },
     "metadata": {},
     "output_type": "display_data"
    }
   ],
   "source": [
    "n, p = 5, 0.9\n",
    "x = np.arange(0,n+1,1)\n",
    "y = binom.pmf(x,n,p)\n",
    "fig = plt.bar(x,y)"
   ]
  },
  {
   "cell_type": "markdown",
   "metadata": {},
   "source": [
    "### Distribuição logarítimica Discreta"
   ]
  },
  {
   "cell_type": "code",
   "execution_count": 21,
   "metadata": {},
   "outputs": [],
   "source": [
    "from scipy.stats import logser"
   ]
  },
  {
   "cell_type": "code",
   "execution_count": 22,
   "metadata": {},
   "outputs": [
    {
     "data": {
      "text/plain": [
       "<Container object of 5 artists>"
      ]
     },
     "execution_count": 22,
     "metadata": {},
     "output_type": "execute_result"
    },
    {
     "data": {
      "image/png": "[encoded data removed]",
      "text/plain": [
       "<matplotlib.figure.Figure at 0x7f91aeb0d2e8>"
      ]
     },
     "metadata": {},
     "output_type": "display_data"
    }
   ],
   "source": [
    "p = 0.9\n",
    "x = np.arange(1,6,1)\n",
    "rv = logser(p)\n",
    "y = rv.pmf(x)\n",
    "plt.bar(x,y)"
   ]
  },
  {
   "cell_type": "code",
   "execution_count": 23,
   "metadata": {},
   "outputs": [
    {
     "data": {
      "text/plain": [
       "<Container object of 5 artists>"
      ]
     },
     "execution_count": 23,
     "metadata": {},
     "output_type": "execute_result"
    },
    {
     "data": {
      "image/png": "[encoded data removed]",
      "text/plain": [
       "<matplotlib.figure.Figure at 0x7f91ae7d2a20>"
      ]
     },
     "metadata": {},
     "output_type": "display_data"
    }
   ],
   "source": [
    "p = 0.1\n",
    "x = np.arange(1,6,1)\n",
    "rv = logser(p)\n",
    "y = rv.pmf(x)\n",
    "plt.bar(x,y)"
   ]
  },
  {
   "cell_type": "markdown",
   "metadata": {},
   "source": [
    "### Zipf Distribuição"
   ]
  },
  {
   "cell_type": "code",
   "execution_count": 27,
   "metadata": {},
   "outputs": [
    {
     "data": {
      "text/plain": [
       "<Container object of 5 artists>"
      ]
     },
     "execution_count": 27,
     "metadata": {},
     "output_type": "execute_result"
    },
    {
     "data": {
      "image/png": "[encoded data removed]",
      "text/plain": [
       "<matplotlib.figure.Figure at 0x7f91ae653e48>"
      ]
     },
     "metadata": {},
     "output_type": "display_data"
    }
   ],
   "source": [
    "from scipy.stats import zipf\n",
    "a = 1.5\n",
    "rv = zipf(a)\n",
    "x = np.arange(1,6,1)\n",
    "y = rv.pmf(x)\n",
    "plt.bar(x,y)"
   ]
  },
  {
   "cell_type": "code",
   "execution_count": null,
   "metadata": {},
   "outputs": [],
   "source": []
  },
  {
   "cell_type": "code",
   "execution_count": null,
   "metadata": {},
   "outputs": [],
   "source": []
  },
  {
   "cell_type": "code",
   "execution_count": null,
   "metadata": {},
   "outputs": [],
   "source": []
  }
 ],
 "metadata": {
  "kernelspec": {
   "display_name": "Python 3",
   "language": "python",
   "name": "python3"
  },
  "language_info": {
   "codemirror_mode": {
    "name": "ipython",
    "version": 3
   },
   "file_extension": ".py",
   "mimetype": "text/x-python",
   "name": "python",
   "nbconvert_exporter": "python",
   "pygments_lexer": "ipython3",
   "version": "3.6.4"
  }
 },
 "nbformat": 4,
 "nbformat_minor": 2
}
