{
 "cells": [
  {
   "cell_type": "code",
   "execution_count": 1,
   "metadata": {},
   "outputs": [],
   "source": [
    "# importando as bibliotecas necessárias\n",
    "import numpy as np\n",
    "import pandas as pd\n",
    "import os\n",
    "from os import path\n",
    "import re\n",
    "\n",
    "import matplotlib.pyplot as plt\n",
    "from matplotlib import cm\n",
    "\n",
    "import seaborn as sns\n",
    "sns.set_style(\"whitegrid\")\n",
    "\n",
    "% matplotlib inline"
   ]
  },
  {
   "cell_type": "code",
   "execution_count": 10,
   "metadata": {},
   "outputs": [],
   "source": [
    "def modificar_valor_simulacao(nome_diretorio):\n",
    "    posicao = nome_diretorio.rfind('_')\n",
    "    posicao += 1\n",
    "    return nome_diretorio[posicao:]\n",
    "\n",
    "def obter_interfmodel(item):\n",
    "    interfModel = item[12]\n",
    "    return int(interfModel)\n",
    "\n",
    "def obter_repeticao(texto):\n",
    "    match = re.findall('\\d+', texto)\n",
    "    if match and len(match) == 2:\n",
    "        nro = match[1]\n",
    "        return int(nro)\n",
    "    else:\n",
    "        raise Exception('Erro ao Identificar a repeticao do registro')"
   ]
  },
  {
   "cell_type": "code",
   "execution_count": 11,
   "metadata": {},
   "outputs": [
    {
     "name": "stdout",
     "output_type": "stream",
     "text": [
      "coletado dados de ->\t simulacao_4.0.0_PA\n",
      "coletado dados de ->\t simulacao_4.0.1_PB\n",
      "coletado dados de ->\t simulacao_4.2.1_CLBin_p=0.1\n",
      "coletado dados de ->\t simulacao_4.2.2_CLBin_p=0.2\n",
      "coletado dados de ->\t simulacao_4.2.3_CLBin_p=0.3\n",
      "coletado dados de ->\t simulacao_4.2.4_CLBin_p=0.4\n",
      "coletado dados de ->\t simulacao_4.2.5_CLBin_p=0.5\n",
      "coletado dados de ->\t simulacao_4.2.6_CLBin_p=0.6\n",
      "coletado dados de ->\t simulacao_4.2.7_CLBin_p=0.7\n",
      "coletado dados de ->\t simulacao_4.2.8_CLBin_p=0.8\n",
      "coletado dados de ->\t simulacao_4.2.9_CLBin_p=0.9\n",
      "\n",
      "\n",
      "\n",
      "<class 'pandas.core.frame.DataFrame'>\n",
      "RangeIndex: 11000 entries, 0 to 10999\n",
      "Data columns (total 5 columns):\n",
      "Modelo de colisao    11000 non-null int64\n",
      "repeticao            11000 non-null int64\n",
      "simulacao            11000 non-null object\n",
      "node                 11000 non-null object\n",
      "PRR                  11000 non-null float64\n",
      "dtypes: float64(1), int64(2), object(2)\n",
      "memory usage: 429.8+ KB\n"
     ]
    }
   ],
   "source": [
    "FILE = 'packets_reception_rate_all.txt'\n",
    "\n",
    "colunas = [\n",
    "    'Informacoes',\n",
    "    'node 1',\n",
    "    'node 2',\n",
    "    'node 3',\n",
    "    'node 4',\n",
    "    'node 5'\n",
    "]\n",
    "\n",
    "# obtem uma lista de todos arquivos e subdiretorios do diretorio atual\n",
    "folders = os.listdir()\n",
    "folders.sort()\n",
    "\n",
    "# INICIALIZANDO UM DATA FRAME VAZIO\n",
    "DATA = pd.DataFrame()\n",
    "\n",
    "# COLETA DOS DADOS\n",
    "for folder in filter(lambda x: path.isdir(x),folders): #filter seleciona apenas os diretórios\n",
    "    os.chdir(folder)\n",
    "    if path.isfile(FILE): # se o arquivo existe no diretório ele processa e faz a coleta\n",
    "        simulacao = modificar_valor_simulacao(folder)\n",
    "        dfPRR = pd.read_csv(FILE,delimiter='|',names=colunas)\n",
    "        dfPRR['Modelo de colisao'] = dfPRR['Informacoes'].apply(obter_interfmodel)\n",
    "        dfPRR['repeticao'] = dfPRR['Informacoes'].apply(obter_repeticao)\n",
    "        dfPRR['simulacao'] = simulacao\n",
    "        DATA = DATA.append(dfPRR,ignore_index=True)\n",
    "        print('coletado dados de ->\\t',folder)\n",
    "    os.chdir('../')\n",
    "\n",
    "# Pré-processamento dos dados\n",
    "DATA = DATA.drop('Informacoes', axis=1)\n",
    "DATA = DATA[DATA['Modelo de colisao'] != 2]\n",
    "\n",
    "DATA = DATA.melt(id_vars=['Modelo de colisao', 'repeticao', 'simulacao'],\n",
    "          value_vars=['node 1', 'node 2', 'node 3', 'node 4', 'node 5'],\n",
    "          var_name='node',\n",
    "          value_name = 'PRR'\n",
    "         )\n",
    "\n",
    "# Exibindo informações do Data Frame\n",
    "# por padrão ele vai exibir a última função executada\n",
    "print('\\n\\n')\n",
    "DATA.info()\n",
    "# DATA.sample(5)"
   ]
  },
  {
   "cell_type": "code",
   "execution_count": 13,
   "metadata": {},
   "outputs": [
    {
     "data": {
      "text/html": [
       "<div>\n",
       "<style scoped>\n",
       "    .dataframe tbody tr th:only-of-type {\n",
       "        vertical-align: middle;\n",
       "    }\n",
       "\n",
       "    .dataframe tbody tr th {\n",
       "        vertical-align: top;\n",
       "    }\n",
       "\n",
       "    .dataframe thead th {\n",
       "        text-align: right;\n",
       "    }\n",
       "</style>\n",
       "<table border=\"1\" class=\"dataframe\">\n",
       "  <thead>\n",
       "    <tr style=\"text-align: right;\">\n",
       "      <th></th>\n",
       "      <th>Modelo de colisao</th>\n",
       "      <th>repeticao</th>\n",
       "      <th>simulacao</th>\n",
       "      <th>node</th>\n",
       "      <th>PRR</th>\n",
       "    </tr>\n",
       "  </thead>\n",
       "  <tbody>\n",
       "    <tr>\n",
       "      <th>0</th>\n",
       "      <td>0</td>\n",
       "      <td>0</td>\n",
       "      <td>PA</td>\n",
       "      <td>node 1</td>\n",
       "      <td>0.944648</td>\n",
       "    </tr>\n",
       "    <tr>\n",
       "      <th>1</th>\n",
       "      <td>0</td>\n",
       "      <td>1</td>\n",
       "      <td>PA</td>\n",
       "      <td>node 1</td>\n",
       "      <td>0.943314</td>\n",
       "    </tr>\n",
       "    <tr>\n",
       "      <th>2</th>\n",
       "      <td>0</td>\n",
       "      <td>2</td>\n",
       "      <td>PA</td>\n",
       "      <td>node 1</td>\n",
       "      <td>0.953651</td>\n",
       "    </tr>\n",
       "    <tr>\n",
       "      <th>3</th>\n",
       "      <td>0</td>\n",
       "      <td>3</td>\n",
       "      <td>PA</td>\n",
       "      <td>node 1</td>\n",
       "      <td>0.952651</td>\n",
       "    </tr>\n",
       "    <tr>\n",
       "      <th>4</th>\n",
       "      <td>0</td>\n",
       "      <td>4</td>\n",
       "      <td>PA</td>\n",
       "      <td>node 1</td>\n",
       "      <td>0.948650</td>\n",
       "    </tr>\n",
       "  </tbody>\n",
       "</table>\n",
       "</div>"
      ],
      "text/plain": [
       "   Modelo de colisao  repeticao simulacao    node       PRR\n",
       "0                  0          0        PA  node 1  0.944648\n",
       "1                  0          1        PA  node 1  0.943314\n",
       "2                  0          2        PA  node 1  0.953651\n",
       "3                  0          3        PA  node 1  0.952651\n",
       "4                  0          4        PA  node 1  0.948650"
      ]
     },
     "execution_count": 13,
     "metadata": {},
     "output_type": "execute_result"
    }
   ],
   "source": [
    "DATA.head()"
   ]
  },
  {
   "cell_type": "code",
   "execution_count": 41,
   "metadata": {},
   "outputs": [
    {
     "data": {
      "text/plain": [
       "<seaborn.axisgrid.FacetGrid at 0x7fc23d3f5978>"
      ]
     },
     "execution_count": 41,
     "metadata": {},
     "output_type": "execute_result"
    },
    {
     "data": {
      "image/png": "[encoded data removed]",
      "text/plain": [
       "<matplotlib.figure.Figure at 0x7fc23d404ac8>"
      ]
     },
     "metadata": {},
     "output_type": "display_data"
    }
   ],
   "source": [
    "# df = DATA\n",
    "select = (DATA['simulacao'] == 'PA') | (DATA['simulacao'] == 'PB') | (DATA['simulacao'] == 'p=0.7') \n",
    "df = DATA[select]\n",
    "\n",
    "\n",
    "sns.factorplot(x='node',\n",
    "               y='PRR',\n",
    "               hue='simulacao',\n",
    "               col='Modelo de colisao',\n",
    "               data=df,\n",
    "               size=3,\n",
    "               sharey=False,\n",
    "               aspect=2,\n",
    "               ci=None,\n",
    "               kind='bar'\n",
    "              )\n",
    "# sns.barplot(x=\"day\", y=\"total_bill\", data=tips)"
   ]
  },
  {
   "cell_type": "code",
   "execution_count": null,
   "metadata": {},
   "outputs": [],
   "source": []
  },
  {
   "cell_type": "code",
   "execution_count": null,
   "metadata": {},
   "outputs": [],
   "source": []
  },
  {
   "cell_type": "code",
   "execution_count": null,
   "metadata": {},
   "outputs": [],
   "source": []
  },
  {
   "cell_type": "code",
   "execution_count": null,
   "metadata": {},
   "outputs": [],
   "source": []
  },
  {
   "cell_type": "code",
   "execution_count": null,
   "metadata": {},
   "outputs": [],
   "source": []
  },
  {
   "cell_type": "code",
   "execution_count": null,
   "metadata": {},
   "outputs": [],
   "source": []
  }
 ],
 "metadata": {
  "kernelspec": {
   "display_name": "Python 3",
   "language": "python",
   "name": "python3"
  },
  "language_info": {
   "codemirror_mode": {
    "name": "ipython",
    "version": 3
   },
   "file_extension": ".py",
   "mimetype": "text/x-python",
   "name": "python",
   "nbconvert_exporter": "python",
   "pygments_lexer": "ipython3",
   "version": "3.6.4"
  }
 },
 "nbformat": 4,
 "nbformat_minor": 2
}
