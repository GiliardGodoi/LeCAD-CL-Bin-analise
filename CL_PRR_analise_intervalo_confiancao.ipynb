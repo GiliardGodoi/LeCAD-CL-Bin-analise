{
 "cells": [
  {
   "cell_type": "code",
   "execution_count": 1,
   "metadata": {},
   "outputs": [],
   "source": [
    "# importando as bibliotecas necessárias\n",
    "import numpy as np\n",
    "import pandas as pd\n",
    "import os\n",
    "from os import path\n",
    "import re\n",
    "\n",
    "import matplotlib.pyplot as plt\n",
    "from matplotlib import cm\n",
    "\n",
    "import seaborn as sns\n",
    "sns.set_style(\"whitegrid\")\n",
    "\n",
    "%matplotlib inline"
   ]
  },
  {
   "cell_type": "code",
   "execution_count": 2,
   "metadata": {},
   "outputs": [],
   "source": [
    "PA = 'PA'\n",
    "PB = 'PB'\n",
    "BINOMIAL = 'CL-B'"
   ]
  },
  {
   "cell_type": "code",
   "execution_count": 3,
   "metadata": {},
   "outputs": [],
   "source": [
    "def modificar_valor_simulacao(nome_diretorio):\n",
    "    posicao = nome_diretorio.rfind('_')\n",
    "    posicao += 1\n",
    "    simulacao = nome_diretorio[posicao:]\n",
    "    if simulacao == '0.7':\n",
    "            simulacao = BINOMIAL\n",
    "    return simulacao\n",
    "\n",
    "def obter_interfmodel(item):\n",
    "    interfModel = item[12]\n",
    "    return int(interfModel)\n",
    "\n",
    "def obter_repeticao(texto):\n",
    "    match = re.findall('\\d+', texto)\n",
    "    if match and len(match) == 2:\n",
    "        nro = match[1]\n",
    "        return int(nro)\n",
    "    else:\n",
    "        raise Exception('Erro ao Identificar a repeticao do registro')"
   ]
  },
  {
   "cell_type": "code",
   "execution_count": 4,
   "metadata": {},
   "outputs": [],
   "source": [
    "colorMAP = {\n",
    "    'PA' : '#d62d20',\n",
    "    'PB' : '#80b0ff',\n",
    "    'p=0.1' : '#1A66FF',\n",
    "    'p=0.2' : '#1A66FF',\n",
    "    'p=0.3' : '#1A66FF',\n",
    "    'p=0.4' : '#1A66FF',\n",
    "    'p=0.5' : '#1A66FF',\n",
    "    'p=0.6' : '#1A66FF',\n",
    "    'p=0.7' : '#1A66FF',\n",
    "    'p=0.8' : '#1A66FF',\n",
    "    'p=0.9' : '#1A66FF',\n",
    "    'CL-B' : '#FF7F0E'\n",
    "}"
   ]
  },
  {
   "cell_type": "code",
   "execution_count": 5,
   "metadata": {},
   "outputs": [
    {
     "name": "stdout",
     "output_type": "stream",
     "text": [
      "coletado dados de ->\t simulacao_4.0.0_PA\n",
      "coletado dados de ->\t simulacao_4.0.1_PB\n",
      "coletado dados de ->\t simulacao_4.2.1_CLBin_0.1\n",
      "coletado dados de ->\t simulacao_4.2.2_CLBin_0.2\n",
      "coletado dados de ->\t simulacao_4.2.3_CLBin_0.3\n",
      "coletado dados de ->\t simulacao_4.2.4_CLBin_0.4\n",
      "coletado dados de ->\t simulacao_4.2.5_CLBin_0.5\n",
      "coletado dados de ->\t simulacao_4.2.6_CLBin_0.6\n",
      "coletado dados de ->\t simulacao_4.2.7_CLBin_0.7\n",
      "coletado dados de ->\t simulacao_4.2.8_CLBin_0.8\n",
      "coletado dados de ->\t simulacao_4.2.9_CLBin_0.9\n",
      "\n",
      "\n",
      "\n",
      "<class 'pandas.core.frame.DataFrame'>\n",
      "RangeIndex: 11000 entries, 0 to 10999\n",
      "Data columns (total 5 columns):\n",
      "Modelo de colisao    11000 non-null int64\n",
      "repeticao            11000 non-null int64\n",
      "simulacao            11000 non-null object\n",
      "nó sensor            11000 non-null object\n",
      "PRR                  11000 non-null float64\n",
      "dtypes: float64(1), int64(2), object(2)\n",
      "memory usage: 429.8+ KB\n"
     ]
    }
   ],
   "source": [
    "FILE = 'packets_reception_rate_all.txt'\n",
    "\n",
    "colunas = [\n",
    "    'Informacoes',\n",
    "    'nó 1',\n",
    "    'nó 2',\n",
    "    'nó 3',\n",
    "    'nó 4',\n",
    "    'nó 5'\n",
    "]\n",
    "\n",
    "# obtem uma lista de todos arquivos e subdiretorios do diretorio atual\n",
    "folders = os.listdir()\n",
    "folders.sort()\n",
    "\n",
    "# INICIALIZANDO UM DATA FRAME VAZIO\n",
    "DATA = pd.DataFrame()\n",
    "\n",
    "# COLETA DOS DADOS\n",
    "for folder in filter(lambda x: path.isdir(x),folders): #filter seleciona apenas os diretórios\n",
    "    os.chdir(folder)\n",
    "    if path.isfile(FILE): # se o arquivo existe no diretório ele processa e faz a coleta\n",
    "        simulacao = modificar_valor_simulacao(folder)\n",
    "        dfPRR = pd.read_csv(FILE,delimiter='|',names=colunas)\n",
    "        dfPRR['Modelo de colisao'] = dfPRR['Informacoes'].apply(obter_interfmodel)\n",
    "        dfPRR['repeticao'] = dfPRR['Informacoes'].apply(obter_repeticao)\n",
    "        dfPRR['simulacao'] = simulacao\n",
    "        DATA = DATA.append(dfPRR,ignore_index=True)\n",
    "        print('coletado dados de ->\\t',folder)\n",
    "    os.chdir('../')\n",
    "\n",
    "# Pré-processamento dos dados\n",
    "DATA = DATA.drop('Informacoes', axis=1)\n",
    "DATA = DATA[DATA['Modelo de colisao'] != 2]\n",
    "\n",
    "DATA = DATA.melt(id_vars=['Modelo de colisao', 'repeticao', 'simulacao'],\n",
    "          value_vars=['nó 1', 'nó 2', 'nó 3', 'nó 4', 'nó 5'],\n",
    "          var_name='nó sensor',\n",
    "          value_name = 'PRR'\n",
    "         )\n",
    "\n",
    "DATA['PRR'] = DATA['PRR'] * 100\n",
    "# Exibindo informações do Data Frame\n",
    "# por padrão ele vai exibir a última função executada\n",
    "print('\\n\\n')\n",
    "DATA.info()\n",
    "# DATA.sample(5)"
   ]
  },
  {
   "cell_type": "code",
   "execution_count": 6,
   "metadata": {},
   "outputs": [
    {
     "data": {
      "text/html": [
       "<div>\n",
       "<style scoped>\n",
       "    .dataframe tbody tr th:only-of-type {\n",
       "        vertical-align: middle;\n",
       "    }\n",
       "\n",
       "    .dataframe tbody tr th {\n",
       "        vertical-align: top;\n",
       "    }\n",
       "\n",
       "    .dataframe thead th {\n",
       "        text-align: right;\n",
       "    }\n",
       "</style>\n",
       "<table border=\"1\" class=\"dataframe\">\n",
       "  <thead>\n",
       "    <tr style=\"text-align: right;\">\n",
       "      <th></th>\n",
       "      <th>Modelo de colisao</th>\n",
       "      <th>repeticao</th>\n",
       "      <th>simulacao</th>\n",
       "      <th>nó sensor</th>\n",
       "      <th>PRR</th>\n",
       "    </tr>\n",
       "  </thead>\n",
       "  <tbody>\n",
       "    <tr>\n",
       "      <th>0</th>\n",
       "      <td>0</td>\n",
       "      <td>0</td>\n",
       "      <td>PA</td>\n",
       "      <td>nó 1</td>\n",
       "      <td>94.4648</td>\n",
       "    </tr>\n",
       "    <tr>\n",
       "      <th>1</th>\n",
       "      <td>0</td>\n",
       "      <td>1</td>\n",
       "      <td>PA</td>\n",
       "      <td>nó 1</td>\n",
       "      <td>94.3314</td>\n",
       "    </tr>\n",
       "    <tr>\n",
       "      <th>2</th>\n",
       "      <td>0</td>\n",
       "      <td>2</td>\n",
       "      <td>PA</td>\n",
       "      <td>nó 1</td>\n",
       "      <td>95.3651</td>\n",
       "    </tr>\n",
       "    <tr>\n",
       "      <th>3</th>\n",
       "      <td>0</td>\n",
       "      <td>3</td>\n",
       "      <td>PA</td>\n",
       "      <td>nó 1</td>\n",
       "      <td>95.2651</td>\n",
       "    </tr>\n",
       "    <tr>\n",
       "      <th>4</th>\n",
       "      <td>0</td>\n",
       "      <td>4</td>\n",
       "      <td>PA</td>\n",
       "      <td>nó 1</td>\n",
       "      <td>94.8650</td>\n",
       "    </tr>\n",
       "  </tbody>\n",
       "</table>\n",
       "</div>"
      ],
      "text/plain": [
       "   Modelo de colisao  repeticao simulacao nó sensor      PRR\n",
       "0                  0          0        PA      nó 1  94.4648\n",
       "1                  0          1        PA      nó 1  94.3314\n",
       "2                  0          2        PA      nó 1  95.3651\n",
       "3                  0          3        PA      nó 1  95.2651\n",
       "4                  0          4        PA      nó 1  94.8650"
      ]
     },
     "execution_count": 6,
     "metadata": {},
     "output_type": "execute_result"
    }
   ],
   "source": [
    "DATA.head()"
   ]
  },
  {
   "cell_type": "code",
   "execution_count": 7,
   "metadata": {},
   "outputs": [],
   "source": [
    "# EXPORTAR os dados para CSV\n",
    "export_file = path.join('dados_csv','PRR_intervaloConfianca.csv') # diretorio + nome arquivo\n",
    "\n",
    "DATA.to_csv(export_file,\n",
    "             index=False, # não salvar o indice dos dados\n",
    "             sep=\"|\", # delimitador utilizado no arquivo, pode ser também , \\t ; \n",
    "            )"
   ]
  },
  {
   "cell_type": "code",
   "execution_count": null,
   "metadata": {},
   "outputs": [],
   "source": []
  },
  {
   "cell_type": "code",
   "execution_count": 14,
   "metadata": {},
   "outputs": [
    {
     "data": {
      "image/png": "[encoded data removed]",
      "text/plain": [
       "<Figure size 922.625x216 with 2 Axes>"
      ]
     },
     "metadata": {
      "needs_background": "light"
     },
     "output_type": "display_data"
    }
   ],
   "source": [
    "# df = DATA\n",
    "select = (DATA['simulacao'] == PA) | (DATA['simulacao'] == PB) | (DATA['simulacao'] == BINOMIAL) \n",
    "df = DATA[select]\n",
    "\n",
    "\n",
    "grid = sns.catplot(x='nó sensor',\n",
    "               y='PRR',\n",
    "               hue='simulacao',\n",
    "               col='Modelo de colisao',\n",
    "               data=df,\n",
    "               height=3,\n",
    "               palette=colorMAP,\n",
    "               sharey=False,\n",
    "               aspect=2,\n",
    "               ci=95.0,\n",
    "               kind='bar'\n",
    "              )\n",
    "# sns.barplot(x=\"day\", y=\"total_bill\", data=tips)"
   ]
  },
  {
   "cell_type": "code",
   "execution_count": 9,
   "metadata": {},
   "outputs": [
    {
     "data": {
      "image/png": "[encoded data removed]",
      "text/plain": [
       "<Figure size 922.625x216 with 2 Axes>"
      ]
     },
     "execution_count": 9,
     "metadata": {},
     "output_type": "execute_result"
    }
   ],
   "source": [
    "axes = grid.axes.flatten()\n",
    "\n",
    "axes[0].set_title(\"SEM colisão\")\n",
    "axes[1].set_title(\"COM colisão\")\n",
    "\n",
    "axes[0].set_xlabel('')\n",
    "axes[1].set_xlabel('')\n",
    "\n",
    "axes[0].get_figure()"
   ]
  },
  {
   "cell_type": "code",
   "execution_count": 10,
   "metadata": {},
   "outputs": [],
   "source": [
    "# select = (DATA['simulacao'] == 'p=0.7') & (DATA['node'] == 'node 5')\n",
    "# df = DATA[select]\n",
    "\n",
    "# df.describe()"
   ]
  },
  {
   "cell_type": "code",
   "execution_count": 11,
   "metadata": {},
   "outputs": [
    {
     "data": {
      "text/plain": [
       "Text(0.5, 1.0, 'Cenário sem colisão')"
      ]
     },
     "execution_count": 11,
     "metadata": {},
     "output_type": "execute_result"
    },
    {
     "data": {
      "image/png": "[encoded data removed]",
      "text/plain": [
       "<Figure size 432x288 with 1 Axes>"
      ]
     },
     "metadata": {
      "needs_background": "light"
     },
     "output_type": "display_data"
    }
   ],
   "source": [
    "select = (DATA['simulacao'] == PA) | (DATA['simulacao'] == PB) | (DATA['simulacao'] == BINOMIAL)\n",
    "df = DATA[select & (DATA['Modelo de colisao'] == 0)].copy()\n",
    "\n",
    "axes = sns.barplot(x='nó sensor',\n",
    "                   y='PRR',\n",
    "                   hue='simulacao',\n",
    "                   data=df,\n",
    "                   palette=colorMAP,\n",
    "                   ci=None\n",
    "                   )\n",
    "axes.set_xlabel('Nós sensores')\n",
    "axes.set_ylabel('Pacotes recebidos (%)')\n",
    "axes.set_yticks([0, 10, 20, 30, 40, 50, 60, 70, 80, 90, 100])\n",
    "axes.set(ylim=(0,110))\n",
    "plt.legend(bbox_to_anchor=(1.25,0.6))\n",
    "plt.title('Cenário sem colisão')"
   ]
  },
  {
   "cell_type": "code",
   "execution_count": 12,
   "metadata": {},
   "outputs": [
    {
     "data": {
      "text/html": [
       "<div>\n",
       "<style scoped>\n",
       "    .dataframe tbody tr th:only-of-type {\n",
       "        vertical-align: middle;\n",
       "    }\n",
       "\n",
       "    .dataframe tbody tr th {\n",
       "        vertical-align: top;\n",
       "    }\n",
       "\n",
       "    .dataframe thead th {\n",
       "        text-align: right;\n",
       "    }\n",
       "</style>\n",
       "<table border=\"1\" class=\"dataframe\">\n",
       "  <thead>\n",
       "    <tr style=\"text-align: right;\">\n",
       "      <th></th>\n",
       "      <th>Modelo de colisao</th>\n",
       "      <th>repeticao</th>\n",
       "      <th>simulacao</th>\n",
       "      <th>nó sensor</th>\n",
       "      <th>PRR</th>\n",
       "    </tr>\n",
       "  </thead>\n",
       "  <tbody>\n",
       "    <tr>\n",
       "      <th>10495</th>\n",
       "      <td>0</td>\n",
       "      <td>95</td>\n",
       "      <td>CL-B</td>\n",
       "      <td>nó 5</td>\n",
       "      <td>79.0239</td>\n",
       "    </tr>\n",
       "    <tr>\n",
       "      <th>10496</th>\n",
       "      <td>0</td>\n",
       "      <td>96</td>\n",
       "      <td>CL-B</td>\n",
       "      <td>nó 5</td>\n",
       "      <td>77.4103</td>\n",
       "    </tr>\n",
       "    <tr>\n",
       "      <th>10497</th>\n",
       "      <td>0</td>\n",
       "      <td>97</td>\n",
       "      <td>CL-B</td>\n",
       "      <td>nó 5</td>\n",
       "      <td>78.0637</td>\n",
       "    </tr>\n",
       "    <tr>\n",
       "      <th>10498</th>\n",
       "      <td>0</td>\n",
       "      <td>98</td>\n",
       "      <td>CL-B</td>\n",
       "      <td>nó 5</td>\n",
       "      <td>78.3409</td>\n",
       "    </tr>\n",
       "    <tr>\n",
       "      <th>10499</th>\n",
       "      <td>0</td>\n",
       "      <td>99</td>\n",
       "      <td>CL-B</td>\n",
       "      <td>nó 5</td>\n",
       "      <td>75.7402</td>\n",
       "    </tr>\n",
       "  </tbody>\n",
       "</table>\n",
       "</div>"
      ],
      "text/plain": [
       "       Modelo de colisao  repeticao simulacao nó sensor      PRR\n",
       "10495                  0         95      CL-B      nó 5  79.0239\n",
       "10496                  0         96      CL-B      nó 5  77.4103\n",
       "10497                  0         97      CL-B      nó 5  78.0637\n",
       "10498                  0         98      CL-B      nó 5  78.3409\n",
       "10499                  0         99      CL-B      nó 5  75.7402"
      ]
     },
     "execution_count": 12,
     "metadata": {},
     "output_type": "execute_result"
    }
   ],
   "source": [
    "df.tail()"
   ]
  },
  {
   "cell_type": "code",
   "execution_count": 13,
   "metadata": {},
   "outputs": [
    {
     "data": {
      "text/plain": [
       "Text(0.5, 1.0, 'Cenário com colisão')"
      ]
     },
     "execution_count": 13,
     "metadata": {},
     "output_type": "execute_result"
    },
    {
     "data": {
      "image/png": "[encoded data removed]",
      "text/plain": [
       "<Figure size 432x288 with 1 Axes>"
      ]
     },
     "metadata": {
      "needs_background": "light"
     },
     "output_type": "display_data"
    }
   ],
   "source": [
    "select = (DATA['simulacao'] == PA) | (DATA['simulacao'] == PB) | (DATA['simulacao'] == BINOMIAL)\n",
    "df = DATA[select & (DATA['Modelo de colisao'] == 1)]\n",
    "\n",
    "axes = sns.barplot(x='nó sensor',\n",
    "                   y='PRR',\n",
    "                   hue='simulacao',\n",
    "                   data=df,\n",
    "                   palette=colorMAP,\n",
    "                   ci=None\n",
    "                   )\n",
    "axes.set_xlabel('Nós sensores')\n",
    "axes.set_ylabel('Pacotes recebidos (%)')\n",
    "axes.set_yticks([0, 10, 20, 30, 40, 50, 60, 70, 80, 90, 100])\n",
    "axes.set(ylim=(0,110))\n",
    "plt.legend(bbox_to_anchor=(1.25,0.6))\n",
    "plt.title('Cenário com colisão')"
   ]
  },
  {
   "cell_type": "code",
   "execution_count": null,
   "metadata": {},
   "outputs": [],
   "source": []
  },
  {
   "cell_type": "code",
   "execution_count": null,
   "metadata": {},
   "outputs": [],
   "source": []
  }
 ],
 "metadata": {
  "kernelspec": {
   "display_name": "Python 3",
   "language": "python",
   "name": "python3"
  },
  "language_info": {
   "codemirror_mode": {
    "name": "ipython",
    "version": 3
   },
   "file_extension": ".py",
   "mimetype": "text/x-python",
   "name": "python",
   "nbconvert_exporter": "python",
   "pygments_lexer": "ipython3",
   "version": "3.7.3"
  }
 },
 "nbformat": 4,
 "nbformat_minor": 2
}
