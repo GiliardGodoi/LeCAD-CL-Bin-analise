{
 "cells": [
  {
   "cell_type": "code",
   "execution_count": 1,
   "metadata": {},
   "outputs": [],
   "source": [
    "import numpy as np\n",
    "import pandas as pd\n",
    "\n",
    "from pandas import DataFrame, Series\n",
    "\n",
    "import random"
   ]
  },
  {
   "cell_type": "code",
   "execution_count": 2,
   "metadata": {},
   "outputs": [],
   "source": [
    "import matplotlib.pyplot as plt\n",
    "import seaborn as sns\n",
    "\n",
    "% matplotlib inline"
   ]
  },
  {
   "cell_type": "code",
   "execution_count": 3,
   "metadata": {},
   "outputs": [],
   "source": [
    "# Função básica usado nestas anotações para simular o lançamento de uma moeda.\n",
    "def flip(p=0.5):\n",
    "    if random.random() < p:\n",
    "        return 1\n",
    "    else:\n",
    "        return 0"
   ]
  },
  {
   "cell_type": "code",
   "execution_count": 4,
   "metadata": {},
   "outputs": [],
   "source": [
    "def trial(numTrial,p=0.5):\n",
    "    sucesso = 0\n",
    "    for i in range(numTrial):\n",
    "        sucesso += flip(p=p)\n",
    "    return sucesso"
   ]
  },
  {
   "cell_type": "code",
   "execution_count": 5,
   "metadata": {},
   "outputs": [],
   "source": [
    "def inicializaDict(numTrial):\n",
    "    experimento = dict()\n",
    "    for i in range(0,numTrial+1):\n",
    "        experimento[i] = 0\n",
    "    return experimento\n",
    "\n",
    "def repeatNtimes(times,numTrial=5,p=0.5):\n",
    "    experimento = inicializaDict(numTrial)\n",
    "    for t in range(times):\n",
    "        qtdSucesso = trial(numTrial,p=p)\n",
    "        experimento[qtdSucesso] += 1\n",
    "    \n",
    "    return experimento"
   ]
  },
  {
   "cell_type": "code",
   "execution_count": 6,
   "metadata": {},
   "outputs": [],
   "source": [
    "def media(data):    \n",
    "    soma = 0\n",
    "    total = 0\n",
    "    for index, valor in data.iteritems():\n",
    "        soma += (index*valor)\n",
    "        total += valor\n",
    "    media = soma / total\n",
    "    return media, soma, total"
   ]
  },
  {
   "cell_type": "code",
   "execution_count": 7,
   "metadata": {},
   "outputs": [],
   "source": [
    "trials=6\n",
    "repeticoes = 10000000"
   ]
  },
  {
   "cell_type": "code",
   "execution_count": 8,
   "metadata": {},
   "outputs": [
    {
     "name": "stdout",
     "output_type": "stream",
     "text": [
      "(3.9599335, 39599335, 10000000)\n"
     ]
    },
    {
     "data": {
      "image/png": "[encoded data removed]",
      "text/plain": [
       "<matplotlib.figure.Figure at 0x7f5022b02978>"
      ]
     },
     "metadata": {},
     "output_type": "display_data"
    }
   ],
   "source": [
    "data = Series(repeatNtimes(repeticoes,numTrial=trials,p=0.66))\n",
    "data.plot(kind='bar',xticks=None,use_index=False)\n",
    "#plt.xticks([0,50,100])\n",
    "print(media(data))"
   ]
  },
  {
   "cell_type": "code",
   "execution_count": 9,
   "metadata": {},
   "outputs": [
    {
     "data": {
      "text/plain": [
       "1428571.4285714286"
      ]
     },
     "execution_count": 9,
     "metadata": {},
     "output_type": "execute_result"
    }
   ],
   "source": [
    "data.mean()"
   ]
  },
  {
   "cell_type": "code",
   "execution_count": 10,
   "metadata": {},
   "outputs": [
    {
     "name": "stdout",
     "output_type": "stream",
     "text": [
      "(4.8311468, 48311468, 10000000)\n"
     ]
    },
    {
     "data": {
      "image/png": "[encoded data removed]",
      "text/plain": [
       "<matplotlib.figure.Figure at 0x7f4fe2af7630>"
      ]
     },
     "metadata": {},
     "output_type": "display_data"
    }
   ],
   "source": [
    "data = Series(repeatNtimes(repeticoes,numTrial=trials,p=0.80526))\n",
    "data.plot(kind='bar',xticks=None,use_index=False)\n",
    "#plt.xticks([0,50,100])\n",
    "print(media(data))"
   ]
  },
  {
   "cell_type": "code",
   "execution_count": 11,
   "metadata": {},
   "outputs": [
    {
     "name": "stdout",
     "output_type": "stream",
     "text": [
      "(5.8720276, 58720276, 10000000)\n"
     ]
    },
    {
     "data": {
      "image/png": "[encoded data removed]",
      "text/plain": [
       "<matplotlib.figure.Figure at 0x7f4fe2a506d8>"
      ]
     },
     "metadata": {},
     "output_type": "display_data"
    }
   ],
   "source": [
    "data = Series(repeatNtimes(repeticoes,numTrial=trials,p=0.97865))\n",
    "data.plot(kind='bar',xticks=None,use_index=False)\n",
    "#plt.xticks([0,50,100])\n",
    "print(media(data))"
   ]
  },
  {
   "cell_type": "code",
   "execution_count": 12,
   "metadata": {},
   "outputs": [
    {
     "name": "stdout",
     "output_type": "stream",
     "text": [
      "(5.9358239, 59358239, 10000000)\n"
     ]
    },
    {
     "data": {
      "image/png": "[encoded data removed]",
      "text/plain": [
       "<matplotlib.figure.Figure at 0x7f4fe29bc6d8>"
      ]
     },
     "metadata": {},
     "output_type": "display_data"
    }
   ],
   "source": [
    "data = Series(repeatNtimes(repeticoes,numTrial=trials,p=0.98931))\n",
    "data.plot(kind='bar',xticks=None,use_index=False)\n",
    "#plt.xticks([0,50,100])\n",
    "print(media(data))"
   ]
  },
  {
   "cell_type": "code",
   "execution_count": 13,
   "metadata": {},
   "outputs": [
    {
     "name": "stdout",
     "output_type": "stream",
     "text": [
      "(5.885178, 58851780, 10000000)\n"
     ]
    },
    {
     "data": {
      "image/png": "[encoded data removed]",
      "text/plain": [
       "<matplotlib.figure.Figure at 0x7f4fe2963588>"
      ]
     },
     "metadata": {},
     "output_type": "display_data"
    }
   ],
   "source": [
    "data = Series(repeatNtimes(repeticoes,numTrial=trials,p=0.98086))\n",
    "data.plot(kind='bar',xticks=None,use_index=False)\n",
    "#plt.xticks([0,50,100])\n",
    "print(media(data))"
   ]
  },
  {
   "cell_type": "code",
   "execution_count": 14,
   "metadata": {},
   "outputs": [
    {
     "name": "stdout",
     "output_type": "stream",
     "text": [
      "(4.8000822, 48000822, 10000000)\n"
     ]
    },
    {
     "data": {
      "image/png": "[encoded data removed]",
      "text/plain": [
       "<matplotlib.figure.Figure at 0x7f4fe29c9cf8>"
      ]
     },
     "metadata": {},
     "output_type": "display_data"
    }
   ],
   "source": [
    "data = Series(repeatNtimes(repeticoes,numTrial=trials,p=0.8))\n",
    "data.plot(kind='bar',xticks=None,use_index=False)\n",
    "#plt.xticks([0,50,100])\n",
    "print(media(data))"
   ]
  },
  {
   "cell_type": "code",
   "execution_count": 15,
   "metadata": {},
   "outputs": [
    {
     "name": "stdout",
     "output_type": "stream",
     "text": [
      "(5.7539397, 57539397, 10000000)\n"
     ]
    },
    {
     "data": {
      "image/png": "[encoded data removed]",
      "text/plain": [
       "<matplotlib.figure.Figure at 0x7f4fe288aa20>"
      ]
     },
     "metadata": {},
     "output_type": "display_data"
    }
   ],
   "source": [
    "data = Series(repeatNtimes(repeticoes,numTrial=trials,p=0.959))\n",
    "data.plot(kind='bar',xticks=None,use_index=False)\n",
    "#plt.xticks([0,50,100])\n",
    "print(media(data))"
   ]
  },
  {
   "cell_type": "code",
   "execution_count": null,
   "metadata": {},
   "outputs": [],
   "source": []
  },
  {
   "cell_type": "code",
   "execution_count": null,
   "metadata": {},
   "outputs": [],
   "source": []
  },
  {
   "cell_type": "code",
   "execution_count": null,
   "metadata": {},
   "outputs": [],
   "source": []
  },
  {
   "cell_type": "code",
   "execution_count": null,
   "metadata": {},
   "outputs": [],
   "source": []
  }
 ],
 "metadata": {
  "kernelspec": {
   "display_name": "Python 3",
   "language": "python",
   "name": "python3"
  },
  "language_info": {
   "codemirror_mode": {
    "name": "ipython",
    "version": 3
   },
   "file_extension": ".py",
   "mimetype": "text/x-python",
   "name": "python",
   "nbconvert_exporter": "python",
   "pygments_lexer": "ipython3",
   "version": "3.6.4"
  }
 },
 "nbformat": 4,
 "nbformat_minor": 2
}
