{
 "cells": [
  {
   "cell_type": "code",
   "execution_count": 1,
   "metadata": {},
   "outputs": [],
   "source": [
    "# importando as bibliotecas necessárias\n",
    "import numpy as np\n",
    "import pandas as pd\n",
    "import os\n",
    "from os import path\n",
    "\n",
    "import matplotlib.pyplot as plt\n",
    "from matplotlib import cm\n",
    "\n",
    "import seaborn as sns\n",
    "sns.set_style(\"whitegrid\")\n",
    "\n",
    "% matplotlib inline"
   ]
  },
  {
   "cell_type": "code",
   "execution_count": 2,
   "metadata": {},
   "outputs": [],
   "source": [
    "PA = 'PA'\n",
    "PB = 'PB'\n",
    "BINOMIAL = 'CL-B'"
   ]
  },
  {
   "cell_type": "code",
   "execution_count": 3,
   "metadata": {},
   "outputs": [],
   "source": [
    "def modificar_valor_InterfModel(item):\n",
    "    tmp = item.strip()\n",
    "    nro = int(tmp[-1:])\n",
    "    return nro\n",
    "\n",
    "def modificar_valor_simulacao(nome_diretorio):\n",
    "    posicao = nome_diretorio.rfind('_')\n",
    "    posicao += 1\n",
    "    simulacao = nome_diretorio[posicao:]\n",
    "    if simulacao == 'p=0.7':\n",
    "            simulacao = BINOMIAL\n",
    "    return simulacao"
   ]
  },
  {
   "cell_type": "code",
   "execution_count": 4,
   "metadata": {},
   "outputs": [],
   "source": [
    "colorMAP = {\n",
    "    'PA' : '#d62d20',\n",
    "    'PB' : '#80b0ff',\n",
    "    'p=0.1' : '#1A66FF',\n",
    "    'p=0.2' : '#1A66FF',\n",
    "    'p=0.3' : '#1A66FF',\n",
    "    'p=0.4' : '#1A66FF',\n",
    "    'p=0.5' : '#1A66FF',\n",
    "    'p=0.6' : '#1A66FF',\n",
    "    'p=0.7' : '#1A66FF',\n",
    "    'p=0.8' : '#1A66FF',\n",
    "    'p=0.9' : '#1A66FF',\n",
    "    'CL-B' : '#FF7F0E'\n",
    "}"
   ]
  },
  {
   "cell_type": "code",
   "execution_count": 5,
   "metadata": {},
   "outputs": [
    {
     "name": "stdout",
     "output_type": "stream",
     "text": [
      "coletado dados de ->\t simulacao_4.0.0_PA\n",
      "coletado dados de ->\t simulacao_4.0.1_PB\n",
      "coletado dados de ->\t simulacao_4.2.1_CLBin_p=0.1\n",
      "coletado dados de ->\t simulacao_4.2.2_CLBin_p=0.2\n",
      "coletado dados de ->\t simulacao_4.2.3_CLBin_p=0.3\n",
      "coletado dados de ->\t simulacao_4.2.4_CLBin_p=0.4\n",
      "coletado dados de ->\t simulacao_4.2.5_CLBin_p=0.5\n",
      "coletado dados de ->\t simulacao_4.2.6_CLBin_p=0.6\n",
      "coletado dados de ->\t simulacao_4.2.7_CLBin_p=0.7\n",
      "coletado dados de ->\t simulacao_4.2.8_CLBin_p=0.8\n",
      "coletado dados de ->\t simulacao_4.2.9_CLBin_p=0.9\n"
     ]
    }
   ],
   "source": [
    "FILE = 'energy_NJ_per_bit.txt' # arquivo de interesse\n",
    "colunas = [\n",
    "    'Modelo de colisao',\n",
    "    'nó 1',\n",
    "    'nó 2',\n",
    "    'nó 3',\n",
    "    'nó 4',\n",
    "    'nó 5'\n",
    "]\n",
    "\n",
    "# obtem uma lista de todos arquivos e subdiretorios do diretorio atual\n",
    "folders = os.listdir()\n",
    "folders.sort()\n",
    "\n",
    "# concentrar todos os dados aqui\n",
    "DATA = pd.DataFrame()\n",
    "\n",
    "for folder in filter(lambda x: path.isdir(x),folders):\n",
    "    os.chdir(folder)\n",
    "    if path.isfile(FILE):\n",
    "        simulacao = modificar_valor_simulacao(folder)\n",
    "        dfPRR = pd.read_csv(FILE,delimiter='|',names=colunas)\n",
    "        dfPRR['Modelo de colisao'] = dfPRR['Modelo de colisao'].apply(modificar_valor_InterfModel)\n",
    "        dfPRR['simulacao'] = simulacao\n",
    "        DATA = DATA.append(dfPRR,ignore_index=True)\n",
    "        print('coletado dados de ->\\t',folder)\n",
    "    os.chdir('../')\n",
    "    \n",
    "DATA = DATA[DATA['Modelo de colisao'] != 2]\n",
    "#del dfPRR"
   ]
  },
  {
   "cell_type": "code",
   "execution_count": 6,
   "metadata": {},
   "outputs": [
    {
     "data": {
      "text/html": [
       "<div>\n",
       "<style scoped>\n",
       "    .dataframe tbody tr th:only-of-type {\n",
       "        vertical-align: middle;\n",
       "    }\n",
       "\n",
       "    .dataframe tbody tr th {\n",
       "        vertical-align: top;\n",
       "    }\n",
       "\n",
       "    .dataframe thead th {\n",
       "        text-align: right;\n",
       "    }\n",
       "</style>\n",
       "<table border=\"1\" class=\"dataframe\">\n",
       "  <thead>\n",
       "    <tr style=\"text-align: right;\">\n",
       "      <th></th>\n",
       "      <th>Modelo de colisao</th>\n",
       "      <th>nó 1</th>\n",
       "      <th>nó 2</th>\n",
       "      <th>nó 3</th>\n",
       "      <th>nó 4</th>\n",
       "      <th>nó 5</th>\n",
       "      <th>simulacao</th>\n",
       "    </tr>\n",
       "  </thead>\n",
       "  <tbody>\n",
       "    <tr>\n",
       "      <th>0</th>\n",
       "      <td>0</td>\n",
       "      <td>102.752</td>\n",
       "      <td>103.044</td>\n",
       "      <td>67.357</td>\n",
       "      <td>46.057</td>\n",
       "      <td>47.027</td>\n",
       "      <td>PA</td>\n",
       "    </tr>\n",
       "    <tr>\n",
       "      <th>1</th>\n",
       "      <td>1</td>\n",
       "      <td>108.034</td>\n",
       "      <td>108.545</td>\n",
       "      <td>70.316</td>\n",
       "      <td>52.628</td>\n",
       "      <td>54.479</td>\n",
       "      <td>PA</td>\n",
       "    </tr>\n",
       "    <tr>\n",
       "      <th>3</th>\n",
       "      <td>0</td>\n",
       "      <td>107.721</td>\n",
       "      <td>106.148</td>\n",
       "      <td>84.643</td>\n",
       "      <td>47.680</td>\n",
       "      <td>62.219</td>\n",
       "      <td>PB</td>\n",
       "    </tr>\n",
       "    <tr>\n",
       "      <th>4</th>\n",
       "      <td>1</td>\n",
       "      <td>134.739</td>\n",
       "      <td>133.308</td>\n",
       "      <td>116.419</td>\n",
       "      <td>67.170</td>\n",
       "      <td>113.731</td>\n",
       "      <td>PB</td>\n",
       "    </tr>\n",
       "    <tr>\n",
       "      <th>6</th>\n",
       "      <td>0</td>\n",
       "      <td>106.389</td>\n",
       "      <td>100.907</td>\n",
       "      <td>71.766</td>\n",
       "      <td>55.054</td>\n",
       "      <td>58.262</td>\n",
       "      <td>p=0.1</td>\n",
       "    </tr>\n",
       "    <tr>\n",
       "      <th>7</th>\n",
       "      <td>1</td>\n",
       "      <td>119.949</td>\n",
       "      <td>113.639</td>\n",
       "      <td>103.727</td>\n",
       "      <td>88.507</td>\n",
       "      <td>116.718</td>\n",
       "      <td>p=0.1</td>\n",
       "    </tr>\n",
       "    <tr>\n",
       "      <th>9</th>\n",
       "      <td>0</td>\n",
       "      <td>104.050</td>\n",
       "      <td>100.440</td>\n",
       "      <td>69.504</td>\n",
       "      <td>53.352</td>\n",
       "      <td>56.163</td>\n",
       "      <td>p=0.2</td>\n",
       "    </tr>\n",
       "    <tr>\n",
       "      <th>10</th>\n",
       "      <td>1</td>\n",
       "      <td>113.428</td>\n",
       "      <td>109.620</td>\n",
       "      <td>89.530</td>\n",
       "      <td>79.307</td>\n",
       "      <td>97.886</td>\n",
       "      <td>p=0.2</td>\n",
       "    </tr>\n",
       "    <tr>\n",
       "      <th>12</th>\n",
       "      <td>0</td>\n",
       "      <td>102.255</td>\n",
       "      <td>100.128</td>\n",
       "      <td>68.085</td>\n",
       "      <td>51.788</td>\n",
       "      <td>54.272</td>\n",
       "      <td>p=0.3</td>\n",
       "    </tr>\n",
       "    <tr>\n",
       "      <th>13</th>\n",
       "      <td>1</td>\n",
       "      <td>109.023</td>\n",
       "      <td>106.922</td>\n",
       "      <td>80.181</td>\n",
       "      <td>72.451</td>\n",
       "      <td>85.649</td>\n",
       "      <td>p=0.3</td>\n",
       "    </tr>\n",
       "  </tbody>\n",
       "</table>\n",
       "</div>"
      ],
      "text/plain": [
       "    Modelo de colisao     nó 1     nó 2     nó 3    nó 4     nó 5 simulacao\n",
       "0                   0  102.752  103.044   67.357  46.057   47.027        PA\n",
       "1                   1  108.034  108.545   70.316  52.628   54.479        PA\n",
       "3                   0  107.721  106.148   84.643  47.680   62.219        PB\n",
       "4                   1  134.739  133.308  116.419  67.170  113.731        PB\n",
       "6                   0  106.389  100.907   71.766  55.054   58.262     p=0.1\n",
       "7                   1  119.949  113.639  103.727  88.507  116.718     p=0.1\n",
       "9                   0  104.050  100.440   69.504  53.352   56.163     p=0.2\n",
       "10                  1  113.428  109.620   89.530  79.307   97.886     p=0.2\n",
       "12                  0  102.255  100.128   68.085  51.788   54.272     p=0.3\n",
       "13                  1  109.023  106.922   80.181  72.451   85.649     p=0.3"
      ]
     },
     "execution_count": 6,
     "metadata": {},
     "output_type": "execute_result"
    }
   ],
   "source": [
    "DATA.head(10)"
   ]
  },
  {
   "cell_type": "code",
   "execution_count": 7,
   "metadata": {},
   "outputs": [],
   "source": [
    "dfData = DATA.melt(id_vars=['Modelo de colisao', 'simulacao'],\n",
    "          value_vars=['nó 1', 'nó 2', 'nó 3', 'nó 4', 'nó 5'],\n",
    "          var_name='nos',\n",
    "          value_name = 'NJ Bit'\n",
    "         )"
   ]
  },
  {
   "cell_type": "code",
   "execution_count": 8,
   "metadata": {},
   "outputs": [
    {
     "data": {
      "text/html": [
       "<div>\n",
       "<style scoped>\n",
       "    .dataframe tbody tr th:only-of-type {\n",
       "        vertical-align: middle;\n",
       "    }\n",
       "\n",
       "    .dataframe tbody tr th {\n",
       "        vertical-align: top;\n",
       "    }\n",
       "\n",
       "    .dataframe thead th {\n",
       "        text-align: right;\n",
       "    }\n",
       "</style>\n",
       "<table border=\"1\" class=\"dataframe\">\n",
       "  <thead>\n",
       "    <tr style=\"text-align: right;\">\n",
       "      <th></th>\n",
       "      <th>Modelo de colisao</th>\n",
       "      <th>simulacao</th>\n",
       "      <th>nos</th>\n",
       "      <th>NJ Bit</th>\n",
       "    </tr>\n",
       "  </thead>\n",
       "  <tbody>\n",
       "    <tr>\n",
       "      <th>0</th>\n",
       "      <td>0</td>\n",
       "      <td>PA</td>\n",
       "      <td>nó 1</td>\n",
       "      <td>102.752</td>\n",
       "    </tr>\n",
       "    <tr>\n",
       "      <th>1</th>\n",
       "      <td>1</td>\n",
       "      <td>PA</td>\n",
       "      <td>nó 1</td>\n",
       "      <td>108.034</td>\n",
       "    </tr>\n",
       "    <tr>\n",
       "      <th>2</th>\n",
       "      <td>0</td>\n",
       "      <td>PB</td>\n",
       "      <td>nó 1</td>\n",
       "      <td>107.721</td>\n",
       "    </tr>\n",
       "    <tr>\n",
       "      <th>3</th>\n",
       "      <td>1</td>\n",
       "      <td>PB</td>\n",
       "      <td>nó 1</td>\n",
       "      <td>134.739</td>\n",
       "    </tr>\n",
       "    <tr>\n",
       "      <th>4</th>\n",
       "      <td>0</td>\n",
       "      <td>p=0.1</td>\n",
       "      <td>nó 1</td>\n",
       "      <td>106.389</td>\n",
       "    </tr>\n",
       "  </tbody>\n",
       "</table>\n",
       "</div>"
      ],
      "text/plain": [
       "   Modelo de colisao simulacao   nos   NJ Bit\n",
       "0                  0        PA  nó 1  102.752\n",
       "1                  1        PA  nó 1  108.034\n",
       "2                  0        PB  nó 1  107.721\n",
       "3                  1        PB  nó 1  134.739\n",
       "4                  0     p=0.1  nó 1  106.389"
      ]
     },
     "execution_count": 8,
     "metadata": {},
     "output_type": "execute_result"
    }
   ],
   "source": [
    "dfData.head(5)"
   ]
  },
  {
   "cell_type": "code",
   "execution_count": 9,
   "metadata": {},
   "outputs": [],
   "source": [
    "# select = (dfData['Modelo de colisao'] != 2)\n",
    "\n",
    "\n",
    "# df = dfData\n",
    "# g = sns.factorplot(x=\"node\", y=\"NJ Bit\", col=\"Modelo de colisao\", hue=\"simulacao\", \n",
    "#                    data=df,\n",
    "#                    kind='point',\n",
    "#                    col_wrap=2,\n",
    "#                    join=True,\n",
    "#                    sharey=False,\n",
    "#                    palette=\"tab10\",\n",
    "#                    markers='.',\n",
    "#                    size=5,\n",
    "#                    aspect=2.5)\n",
    "# g.set(ylim=(0,150))"
   ]
  },
  {
   "cell_type": "code",
   "execution_count": 13,
   "metadata": {},
   "outputs": [
    {
     "data": {
      "text/plain": [
       "<seaborn.axisgrid.FacetGrid at 0x7f38c2c98d30>"
      ]
     },
     "execution_count": 13,
     "metadata": {},
     "output_type": "execute_result"
    },
    {
     "data": {
      "image/png": "[encoded data removed]",
      "text/plain": [
       "<Figure size 922.875x216 with 2 Axes>"
      ]
     },
     "metadata": {},
     "output_type": "display_data"
    }
   ],
   "source": [
    "selectA = (dfData['simulacao'] == PA) | (dfData['simulacao'] == PB) | (dfData['simulacao'] == BINOMIAL)\n",
    "selectB = (dfData['nos'] == 'nó 1') | (dfData['nos'] == 'nó 2') | (dfData['nos'] == 'nó 5')\n",
    "df = dfData[selectA & selectB]\n",
    "# df = dfData[selectB]\n",
    "\n",
    "grid = sns.factorplot(x=\"nos\", y=\"NJ Bit\", col=\"Modelo de colisao\", hue=\"simulacao\", \n",
    "                   data=df,\n",
    "                   kind='bar',\n",
    "                   palette=colorMAP,\n",
    "                   sharey=False,\n",
    "                   size=3,\n",
    "                   aspect=2)\n",
    "grid.set(ylim=(0,150))\n"
   ]
  },
  {
   "cell_type": "code",
   "execution_count": 14,
   "metadata": {},
   "outputs": [
    {
     "data": {
      "image/png": "[encoded data removed]",
      "text/plain": [
       "<Figure size 922.875x216 with 2 Axes>"
      ]
     },
     "execution_count": 14,
     "metadata": {},
     "output_type": "execute_result"
    }
   ],
   "source": [
    "axes = grid.axes.flatten()\n",
    "\n",
    "axes[0].set_title(\"Cenário sem colisão\")\n",
    "axes[1].set_title(\"Cenário com colisão\")\n",
    "\n",
    "axes[0].set_xlabel('')\n",
    "axes[1].set_xlabel('')\n",
    "\n",
    "axes[0].get_figure()"
   ]
  },
  {
   "cell_type": "code",
   "execution_count": 15,
   "metadata": {},
   "outputs": [
    {
     "data": {
      "text/plain": [
       "<seaborn.axisgrid.FacetGrid at 0x7f38c0b8a908>"
      ]
     },
     "execution_count": 15,
     "metadata": {},
     "output_type": "execute_result"
    },
    {
     "data": {
      "image/png": "[encoded data removed]",
      "text/plain": [
       "<Figure size 908x540 with 6 Axes>"
      ]
     },
     "metadata": {},
     "output_type": "display_data"
    }
   ],
   "source": [
    "\n",
    "select = (dfData['nos'] == 'nó 1') | (dfData['nos'] == 'nó 2') | (dfData['nos'] == 'nó 5')\n",
    "df = dfData[select]\n",
    "\n",
    "g = sns.factorplot(x=\"simulacao\", y=\"NJ Bit\", col=\"Modelo de colisao\", row=\"nos\", \n",
    "                   data=df,\n",
    "                   kind='bar',\n",
    "                   palette=colorMAP,\n",
    "                   sharex=False,\n",
    "                   sharey=False,\n",
    "                   size=2.5,\n",
    "                   aspect=2.5)\n",
    "g.set(ylim=(0,150))\n",
    "g.add_legend()"
   ]
  },
  {
   "cell_type": "code",
   "execution_count": 16,
   "metadata": {},
   "outputs": [
    {
     "data": {
      "text/plain": [
       "Text(0.5,1,'Cenário sem colisão')"
      ]
     },
     "execution_count": 16,
     "metadata": {},
     "output_type": "execute_result"
    },
    {
     "data": {
      "image/png": "[encoded data removed]",
      "text/plain": [
       "<Figure size 432x288 with 1 Axes>"
      ]
     },
     "metadata": {},
     "output_type": "display_data"
    }
   ],
   "source": [
    "selectA = (dfData['simulacao'] == PA) | (dfData['simulacao'] == PB) | (dfData['simulacao'] == BINOMIAL)\n",
    "selectB = (dfData['nos'] == 'nó 1') | (dfData['nos'] == 'nó 2') | (dfData['nos'] == 'nó 5')\n",
    "selectC = (dfData['Modelo de colisao'] == 0)\n",
    "df = dfData[selectA & selectB & selectC]\n",
    "\n",
    "axes = sns.barplot(x='nos',\n",
    "                   y='NJ Bit',\n",
    "                   hue='simulacao',\n",
    "                   data=df,\n",
    "                   palette=colorMAP\n",
    "                  )\n",
    "axes.legend(loc=(1.03,0.4))\n",
    "axes.set(ylim=(0,155))\n",
    "axes.set_xlabel('Nós sensores')\n",
    "\n",
    "plt.title('Cenário sem colisão')"
   ]
  },
  {
   "cell_type": "code",
   "execution_count": 17,
   "metadata": {},
   "outputs": [
    {
     "data": {
      "text/plain": [
       "Text(0.5,1,'Cenário com colisão')"
      ]
     },
     "execution_count": 17,
     "metadata": {},
     "output_type": "execute_result"
    },
    {
     "data": {
      "image/png": "[encoded data removed]",
      "text/plain": [
       "<Figure size 432x288 with 1 Axes>"
      ]
     },
     "metadata": {},
     "output_type": "display_data"
    }
   ],
   "source": [
    "selectA = (dfData['simulacao'] == PA) | (dfData['simulacao'] == PB) | (dfData['simulacao'] == BINOMIAL)\n",
    "selectB = (dfData['nos'] == 'nó 1') | (dfData['nos'] == 'nó 2') | (dfData['nos'] == 'nó 5')\n",
    "selectC = (dfData['Modelo de colisao'] == 1)\n",
    "df = dfData[selectA & selectB & selectC]\n",
    "\n",
    "axes = sns.barplot(x='nos',\n",
    "                   y='NJ Bit',\n",
    "                   hue='simulacao',\n",
    "                   data=df,\n",
    "                   palette=colorMAP\n",
    "                  )\n",
    "axes.legend(loc=(1.03,0.4))\n",
    "axes.set(ylim=(0,155))\n",
    "axes.set_xlabel('Nós sensores')\n",
    "\n",
    "plt.title('Cenário com colisão')"
   ]
  },
  {
   "cell_type": "code",
   "execution_count": null,
   "metadata": {},
   "outputs": [],
   "source": []
  },
  {
   "cell_type": "code",
   "execution_count": null,
   "metadata": {},
   "outputs": [],
   "source": []
  }
 ],
 "metadata": {
  "kernelspec": {
   "display_name": "Python 3",
   "language": "python",
   "name": "python3"
  },
  "language_info": {
   "codemirror_mode": {
    "name": "ipython",
    "version": 3
   },
   "file_extension": ".py",
   "mimetype": "text/x-python",
   "name": "python",
   "nbconvert_exporter": "python",
   "pygments_lexer": "ipython3",
   "version": "3.6.4"
  }
 },
 "nbformat": 4,
 "nbformat_minor": 2
}
