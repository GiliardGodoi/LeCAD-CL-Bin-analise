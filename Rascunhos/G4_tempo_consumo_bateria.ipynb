{
 "cells": [
  {
   "cell_type": "code",
   "execution_count": 1,
   "metadata": {},
   "outputs": [],
   "source": [
    "# importando as bibliotecas necessárias\n",
    "import numpy as np\n",
    "import pandas as pd\n",
    "import os\n",
    "from os import path\n",
    "\n",
    "import matplotlib.pyplot as plt\n",
    "from matplotlib import cm\n",
    "\n",
    "import seaborn as sns\n",
    "sns.set_style(\"whitegrid\")\n",
    "\n",
    "% matplotlib inline"
   ]
  },
  {
   "cell_type": "code",
   "execution_count": null,
   "metadata": {},
   "outputs": [],
   "source": []
  },
  {
   "cell_type": "code",
   "execution_count": 27,
   "metadata": {},
   "outputs": [],
   "source": [
    "def modificar_valor_InterfModel(item):\n",
    "    tmp = item[12]\n",
    "    return tmp\n",
    "#     nro = int(tmp[-1:])\n",
    "#     return nro\n",
    "\n",
    "\n",
    "def modificar_valor_simulacao(nome_diretorio):\n",
    "    posicao = nome_diretorio.rfind('_')\n",
    "    posicao += 1\n",
    "    return nome_diretorio[posicao:]"
   ]
  },
  {
   "cell_type": "code",
   "execution_count": 28,
   "metadata": {},
   "outputs": [
    {
     "name": "stdout",
     "output_type": "stream",
     "text": [
      "coletado dados de ->\t simulacao_4.0.0_PA\n",
      "coletado dados de ->\t simulacao_4.0.1_PB\n",
      "coletado dados de ->\t simulacao_4.2.1_CLBin_p=0.1\n",
      "coletado dados de ->\t simulacao_4.2.2_CLBin_p=0.2\n",
      "coletado dados de ->\t simulacao_4.2.3_CLBin_p=0.3\n",
      "coletado dados de ->\t simulacao_4.2.4_CLBin_p=0.4\n",
      "coletado dados de ->\t simulacao_4.2.5_CLBin_p=0.5\n",
      "coletado dados de ->\t simulacao_4.2.6_CLBin_p=0.6\n",
      "coletado dados de ->\t simulacao_4.2.7_CLBin_p=0.7\n",
      "coletado dados de ->\t simulacao_4.2.8_CLBin_p=0.8\n",
      "coletado dados de ->\t simulacao_4.2.9_CLBin_p=0.9\n"
     ]
    },
    {
     "data": {
      "text/html": [
       "<div>\n",
       "<style scoped>\n",
       "    .dataframe tbody tr th:only-of-type {\n",
       "        vertical-align: middle;\n",
       "    }\n",
       "\n",
       "    .dataframe tbody tr th {\n",
       "        vertical-align: top;\n",
       "    }\n",
       "\n",
       "    .dataframe thead th {\n",
       "        text-align: right;\n",
       "    }\n",
       "</style>\n",
       "<table border=\"1\" class=\"dataframe\">\n",
       "  <thead>\n",
       "    <tr style=\"text-align: right;\">\n",
       "      <th></th>\n",
       "      <th>Modelo de colisao</th>\n",
       "      <th>node 0</th>\n",
       "      <th>node 1</th>\n",
       "      <th>node 2</th>\n",
       "      <th>node 3</th>\n",
       "      <th>node 4</th>\n",
       "      <th>node 5</th>\n",
       "      <th>simulacao</th>\n",
       "    </tr>\n",
       "  </thead>\n",
       "  <tbody>\n",
       "    <tr>\n",
       "      <th>0</th>\n",
       "      <td>0</td>\n",
       "      <td>0.932</td>\n",
       "      <td>0.245</td>\n",
       "      <td>0.248</td>\n",
       "      <td>0.243</td>\n",
       "      <td>0.245</td>\n",
       "      <td>0.243</td>\n",
       "      <td>PA</td>\n",
       "    </tr>\n",
       "    <tr>\n",
       "      <th>1</th>\n",
       "      <td>1</td>\n",
       "      <td>0.933</td>\n",
       "      <td>0.245</td>\n",
       "      <td>0.248</td>\n",
       "      <td>0.243</td>\n",
       "      <td>0.245</td>\n",
       "      <td>0.243</td>\n",
       "      <td>PA</td>\n",
       "    </tr>\n",
       "    <tr>\n",
       "      <th>3</th>\n",
       "      <td>0</td>\n",
       "      <td>0.932</td>\n",
       "      <td>0.215</td>\n",
       "      <td>0.245</td>\n",
       "      <td>0.224</td>\n",
       "      <td>0.219</td>\n",
       "      <td>0.214</td>\n",
       "      <td>PB</td>\n",
       "    </tr>\n",
       "    <tr>\n",
       "      <th>4</th>\n",
       "      <td>1</td>\n",
       "      <td>0.932</td>\n",
       "      <td>0.216</td>\n",
       "      <td>0.245</td>\n",
       "      <td>0.227</td>\n",
       "      <td>0.220</td>\n",
       "      <td>0.218</td>\n",
       "      <td>PB</td>\n",
       "    </tr>\n",
       "    <tr>\n",
       "      <th>6</th>\n",
       "      <td>0</td>\n",
       "      <td>0.933</td>\n",
       "      <td>0.244</td>\n",
       "      <td>0.248</td>\n",
       "      <td>0.241</td>\n",
       "      <td>0.244</td>\n",
       "      <td>0.241</td>\n",
       "      <td>p=0.1</td>\n",
       "    </tr>\n",
       "    <tr>\n",
       "      <th>7</th>\n",
       "      <td>1</td>\n",
       "      <td>0.933</td>\n",
       "      <td>0.244</td>\n",
       "      <td>0.247</td>\n",
       "      <td>0.241</td>\n",
       "      <td>0.244</td>\n",
       "      <td>0.241</td>\n",
       "      <td>p=0.1</td>\n",
       "    </tr>\n",
       "    <tr>\n",
       "      <th>9</th>\n",
       "      <td>0</td>\n",
       "      <td>0.933</td>\n",
       "      <td>0.244</td>\n",
       "      <td>0.248</td>\n",
       "      <td>0.241</td>\n",
       "      <td>0.244</td>\n",
       "      <td>0.241</td>\n",
       "      <td>p=0.2</td>\n",
       "    </tr>\n",
       "    <tr>\n",
       "      <th>10</th>\n",
       "      <td>1</td>\n",
       "      <td>0.933</td>\n",
       "      <td>0.244</td>\n",
       "      <td>0.247</td>\n",
       "      <td>0.241</td>\n",
       "      <td>0.244</td>\n",
       "      <td>0.241</td>\n",
       "      <td>p=0.2</td>\n",
       "    </tr>\n",
       "    <tr>\n",
       "      <th>12</th>\n",
       "      <td>0</td>\n",
       "      <td>0.933</td>\n",
       "      <td>0.245</td>\n",
       "      <td>0.248</td>\n",
       "      <td>0.241</td>\n",
       "      <td>0.244</td>\n",
       "      <td>0.241</td>\n",
       "      <td>p=0.3</td>\n",
       "    </tr>\n",
       "    <tr>\n",
       "      <th>13</th>\n",
       "      <td>1</td>\n",
       "      <td>0.933</td>\n",
       "      <td>0.244</td>\n",
       "      <td>0.248</td>\n",
       "      <td>0.241</td>\n",
       "      <td>0.244</td>\n",
       "      <td>0.242</td>\n",
       "      <td>p=0.3</td>\n",
       "    </tr>\n",
       "  </tbody>\n",
       "</table>\n",
       "</div>"
      ],
      "text/plain": [
       "   Modelo de colisao  node 0  node 1  node 2  node 3  node 4  node 5 simulacao\n",
       "0                  0   0.932   0.245   0.248   0.243   0.245   0.243        PA\n",
       "1                  1   0.933   0.245   0.248   0.243   0.245   0.243        PA\n",
       "3                  0   0.932   0.215   0.245   0.224   0.219   0.214        PB\n",
       "4                  1   0.932   0.216   0.245   0.227   0.220   0.218        PB\n",
       "6                  0   0.933   0.244   0.248   0.241   0.244   0.241     p=0.1\n",
       "7                  1   0.933   0.244   0.247   0.241   0.244   0.241     p=0.1\n",
       "9                  0   0.933   0.244   0.248   0.241   0.244   0.241     p=0.2\n",
       "10                 1   0.933   0.244   0.247   0.241   0.244   0.241     p=0.2\n",
       "12                 0   0.933   0.245   0.248   0.241   0.244   0.241     p=0.3\n",
       "13                 1   0.933   0.244   0.248   0.241   0.244   0.242     p=0.3"
      ]
     },
     "execution_count": 28,
     "metadata": {},
     "output_type": "execute_result"
    }
   ],
   "source": [
    "FILE = 'energy_consumed.txt' # arquivo de interesse\n",
    "colunas = ['Modelo de colisao','node 0' ,'node 1', 'node 2', 'node 3', 'node 4', 'node 5']\n",
    "\n",
    "# obtem uma lista de todos arquivos e subdiretorios do diretorio atual\n",
    "folders = os.listdir()\n",
    "folders.sort()\n",
    "\n",
    "DATA = pd.DataFrame()\n",
    "\n",
    "for folder in filter(lambda x: path.isdir(x),folders):\n",
    "    os.chdir(folder)\n",
    "    if path.isfile(FILE):\n",
    "        simulacao = modificar_valor_simulacao(folder)\n",
    "        dfPRR = pd.read_csv(FILE,delimiter='|',names=colunas)\n",
    "        dfPRR['Modelo de colisao'] = dfPRR['Modelo de colisao'].apply(modificar_valor_InterfModel)\n",
    "        dfPRR['simulacao'] = simulacao\n",
    "        DATA = DATA.append(dfPRR,ignore_index=True)\n",
    "        print('coletado dados de ->\\t',folder)\n",
    "    os.chdir('../')\n",
    "#del dfPRR\n",
    "\n",
    "DATA = DATA[DATA['Modelo de colisao'] != '2']\n",
    "\n",
    "DATA.head(10)"
   ]
  },
  {
   "cell_type": "code",
   "execution_count": 29,
   "metadata": {},
   "outputs": [],
   "source": [
    "tempoSimulacao = 300 # ou é 301s\n",
    "cargaBateria = 18720 # joules\n",
    "\n",
    "def calcula_tempo_uso_bateria(gasto):\n",
    "    if type(gasto) is str:\n",
    "        return gasto\n",
    "    tempoSegundos = (cargaBateria / gasto ) * tempoSimulacao\n",
    "    tempoHoras = tempoSegundos / 3600\n",
    "    tempoDias = tempoHoras / 24\n",
    "    return tempoDias\n",
    "\n",
    "def porcentagem_de_uso_bateria(gasto):\n",
    "    if type(gasto) is str:\n",
    "        return gasto\n",
    "    porcentagem = (gasto/cargaBateria) * 100\n",
    "    return porcentagem"
   ]
  },
  {
   "cell_type": "code",
   "execution_count": null,
   "metadata": {},
   "outputs": [],
   "source": []
  },
  {
   "cell_type": "code",
   "execution_count": 30,
   "metadata": {},
   "outputs": [],
   "source": [
    "# DATA[['node 0' ,'node 1', 'node 2', 'node 3', 'node 4', 'node 5']].applymap(calcula_tempo_uso_bateria)\n",
    "dfTempoDuracao = DATA.applymap(calcula_tempo_uso_bateria)"
   ]
  },
  {
   "cell_type": "code",
   "execution_count": 31,
   "metadata": {},
   "outputs": [
    {
     "data": {
      "text/html": [
       "<div>\n",
       "<style scoped>\n",
       "    .dataframe tbody tr th:only-of-type {\n",
       "        vertical-align: middle;\n",
       "    }\n",
       "\n",
       "    .dataframe tbody tr th {\n",
       "        vertical-align: top;\n",
       "    }\n",
       "\n",
       "    .dataframe thead th {\n",
       "        text-align: right;\n",
       "    }\n",
       "</style>\n",
       "<table border=\"1\" class=\"dataframe\">\n",
       "  <thead>\n",
       "    <tr style=\"text-align: right;\">\n",
       "      <th></th>\n",
       "      <th>Modelo de colisao</th>\n",
       "      <th>simulacao</th>\n",
       "      <th>node</th>\n",
       "      <th>duracao</th>\n",
       "    </tr>\n",
       "  </thead>\n",
       "  <tbody>\n",
       "    <tr>\n",
       "      <th>0</th>\n",
       "      <td>0</td>\n",
       "      <td>PA</td>\n",
       "      <td>node 0</td>\n",
       "      <td>69.742489</td>\n",
       "    </tr>\n",
       "    <tr>\n",
       "      <th>1</th>\n",
       "      <td>1</td>\n",
       "      <td>PA</td>\n",
       "      <td>node 0</td>\n",
       "      <td>69.667738</td>\n",
       "    </tr>\n",
       "    <tr>\n",
       "      <th>2</th>\n",
       "      <td>0</td>\n",
       "      <td>PB</td>\n",
       "      <td>node 0</td>\n",
       "      <td>69.742489</td>\n",
       "    </tr>\n",
       "    <tr>\n",
       "      <th>3</th>\n",
       "      <td>1</td>\n",
       "      <td>PB</td>\n",
       "      <td>node 0</td>\n",
       "      <td>69.742489</td>\n",
       "    </tr>\n",
       "    <tr>\n",
       "      <th>4</th>\n",
       "      <td>0</td>\n",
       "      <td>p=0.1</td>\n",
       "      <td>node 0</td>\n",
       "      <td>69.667738</td>\n",
       "    </tr>\n",
       "  </tbody>\n",
       "</table>\n",
       "</div>"
      ],
      "text/plain": [
       "  Modelo de colisao simulacao    node    duracao\n",
       "0                 0        PA  node 0  69.742489\n",
       "1                 1        PA  node 0  69.667738\n",
       "2                 0        PB  node 0  69.742489\n",
       "3                 1        PB  node 0  69.742489\n",
       "4                 0     p=0.1  node 0  69.667738"
      ]
     },
     "execution_count": 31,
     "metadata": {},
     "output_type": "execute_result"
    }
   ],
   "source": [
    "dfData = dfTempoDuracao.melt(id_vars=['Modelo de colisao', 'simulacao'],\n",
    "          value_vars=['node 0','node 1', 'node 2', 'node 3', 'node 4', 'node 5'],\n",
    "          var_name='node',\n",
    "          value_name = 'duracao'\n",
    "         )\n",
    "dfData.head()"
   ]
  },
  {
   "cell_type": "code",
   "execution_count": null,
   "metadata": {},
   "outputs": [],
   "source": []
  },
  {
   "cell_type": "code",
   "execution_count": 40,
   "metadata": {},
   "outputs": [
    {
     "data": {
      "text/plain": [
       "<seaborn.axisgrid.FacetGrid at 0x7f911ee55da0>"
      ]
     },
     "execution_count": 40,
     "metadata": {},
     "output_type": "execute_result"
    },
    {
     "data": {
      "image/png": "[encoded data removed]",
      "text/plain": [
       "<matplotlib.figure.Figure at 0x7f911ed9b668>"
      ]
     },
     "metadata": {},
     "output_type": "display_data"
    }
   ],
   "source": [
    "\n",
    "select = ((dfData['node'] == 'node 1') | (dfData['node'] == 'node 3') | (dfData['node'] == 'node 5') ) & ((dfData['simulacao'] == 'PB') | (dfData['simulacao'] == 'PA') | (dfData['simulacao'] == 'p=0.7') )\n",
    "df = dfData[select]\n",
    "\n",
    "g = sns.factorplot(x=\"simulacao\", y=\"duracao\", hue=\"node\", col=\"Modelo de colisao\",\n",
    "                   data=df,\n",
    "                   kind='bar',\n",
    "                   palette=\"tab10\",\n",
    "                   size=5,\n",
    "                   aspect=1.5)\n",
    "g.set(ylim=(0,500))"
   ]
  },
  {
   "cell_type": "code",
   "execution_count": 42,
   "metadata": {},
   "outputs": [
    {
     "data": {
      "text/plain": [
       "<seaborn.axisgrid.FacetGrid at 0x7f911eab8f60>"
      ]
     },
     "execution_count": 42,
     "metadata": {},
     "output_type": "execute_result"
    },
    {
     "data": {
      "image/png": "[encoded data removed]",
      "text/plain": [
       "<matplotlib.figure.Figure at 0x7f911eac1320>"
      ]
     },
     "metadata": {},
     "output_type": "display_data"
    }
   ],
   "source": [
    "# exceto para o nó 0\n",
    "select = (dfData['node'] != 'node 0')  & (dfData['simulacao'] != 'PA') & (dfData['simulacao'] != 'PB') & (dfData['node'] != 'node 2') & (dfData['node'] != 'node 4')\n",
    "df = dfData[select]\n",
    "\n",
    "\n",
    "\n",
    "simulacoes = df['simulacao'].unique()\n",
    "grid = sns.factorplot(x=\"simulacao\", y=\"duracao\", hue=\"node\", col=\"Modelo de colisao\",\n",
    "                   data=df,\n",
    "                   kind='bar',\n",
    "                   palette=\"tab10\",\n",
    "                   size=3,\n",
    "                   aspect=1.5,\n",
    "                   linewidth=0.3\n",
    "                  )\n",
    "grid.set(ylim=(0,300))"
   ]
  },
  {
   "cell_type": "code",
   "execution_count": 34,
   "metadata": {},
   "outputs": [
    {
     "data": {
      "text/plain": [
       "<seaborn.axisgrid.FacetGrid at 0x7f911f04ca90>"
      ]
     },
     "execution_count": 34,
     "metadata": {},
     "output_type": "execute_result"
    },
    {
     "data": {
      "image/png": "[encoded data removed]",
      "text/plain": [
       "<matplotlib.figure.Figure at 0x7f911f017518>"
      ]
     },
     "metadata": {},
     "output_type": "display_data"
    }
   ],
   "source": [
    "# exceto para o nó 0\n",
    "select = (dfData['node'] != 'node 0') & (dfData['Modelo de colisao'] != 'InterfModel=2') & (dfData['simulacao'] != 'PA') & (dfData['simulacao'] != 'PB')\n",
    "df = dfData[select]\n",
    "simulacoes = df['simulacao'].unique()\n",
    "grid = sns.factorplot(x=\"simulacao\", y=\"duracao\", hue=\"node\", col=\"Modelo de colisao\",\n",
    "                   data=df,\n",
    "                   kind='point',\n",
    "                   palette=\"tab10\",\n",
    "                   size=3,\n",
    "                   aspect=1.5,\n",
    "                   linewidth=0.3\n",
    "                  )\n",
    "grid.set(ylim=(260,270))"
   ]
  },
  {
   "cell_type": "code",
   "execution_count": null,
   "metadata": {},
   "outputs": [],
   "source": []
  },
  {
   "cell_type": "code",
   "execution_count": 35,
   "metadata": {},
   "outputs": [],
   "source": []
  },
  {
   "cell_type": "code",
   "execution_count": null,
   "metadata": {},
   "outputs": [],
   "source": []
  },
  {
   "cell_type": "code",
   "execution_count": null,
   "metadata": {},
   "outputs": [],
   "source": []
  },
  {
   "cell_type": "code",
   "execution_count": null,
   "metadata": {},
   "outputs": [],
   "source": []
  },
  {
   "cell_type": "code",
   "execution_count": null,
   "metadata": {},
   "outputs": [],
   "source": []
  }
 ],
 "metadata": {
  "kernelspec": {
   "display_name": "Python 3",
   "language": "python",
   "name": "python3"
  },
  "language_info": {
   "codemirror_mode": {
    "name": "ipython",
    "version": 3
   },
   "file_extension": ".py",
   "mimetype": "text/x-python",
   "name": "python",
   "nbconvert_exporter": "python",
   "pygments_lexer": "ipython3",
   "version": "3.6.4"
  }
 },
 "nbformat": 4,
 "nbformat_minor": 2
}
